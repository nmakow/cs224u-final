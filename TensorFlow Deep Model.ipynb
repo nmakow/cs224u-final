{
 "cells": [
  {
   "cell_type": "markdown",
   "metadata": {},
   "source": [
    "# TensorFlow Deep Model\n",
    "\n",
    "Ultimately we want to work in tf to build a model, as it will give the most flexibility and we can build off of some modules we built for SQuAD. \n",
    "\n",
    "We'll go through as follows:\n",
    "0. Set-up.\n",
    "1. Read in dataset.\n",
    "2. Convert dataset into format for RNN.\n",
    "3. Construct vocabulary for RNN.\n",
    "4. Fit TF-RNN classifier."
   ]
  },
  {
   "cell_type": "code",
   "execution_count": 17,
   "metadata": {},
   "outputs": [],
   "source": [
    "# 0. Some initial set-up.\n",
    "from collections import Counter\n",
    "import numpy as np\n",
    "import os\n",
    "import pandas as pd\n",
    "import random\n",
    "from tf_rnn_classifier import TfRNNClassifier\n",
    "from sklearn.linear_model import LogisticRegression\n",
    "from sklearn.metrics import classification_report, roc_auc_score\n",
    "import tensorflow as tf\n",
    "import sst\n",
    "import utils"
   ]
  },
  {
   "cell_type": "code",
   "execution_count": 2,
   "metadata": {
    "collapsed": true
   },
   "outputs": [],
   "source": [
    "data_dir = \"./data/\""
   ]
  },
  {
   "cell_type": "markdown",
   "metadata": {},
   "source": [
    "## Read in data"
   ]
  },
  {
   "cell_type": "code",
   "execution_count": 3,
   "metadata": {},
   "outputs": [],
   "source": [
    "train = pd.read_csv(data_dir + \"train.csv\").fillna(' ')\n",
    "test = pd.read_csv(data_dir + \"test.csv\").fillna(' ')\n",
    "test_labels = pd.read_csv(data_dir + \"test_labels.csv\")"
   ]
  },
  {
   "cell_type": "code",
   "execution_count": 4,
   "metadata": {
    "collapsed": true
   },
   "outputs": [],
   "source": [
    "label_cols = ['toxic', 'severe_toxic', 'obscene', 'threat', 'insult', 'identity_hate']\n",
    "train_text = train['comment_text']\n",
    "train_labels = train[label_cols]"
   ]
  },
  {
   "cell_type": "markdown",
   "metadata": {},
   "source": [
    "## Formatting dataset for RNN\n",
    "\n",
    "In order to format the dataset for the RNN, we want to format it so that we have a list of lists. Outer list corresponds to training examples, inner list corresponds to token within each example."
   ]
  },
  {
   "cell_type": "code",
   "execution_count": 5,
   "metadata": {
    "collapsed": true
   },
   "outputs": [],
   "source": [
    "def build_rnn_dataset(dataset):\n",
    "    label_cols = ['toxic', 'severe_toxic', 'obscene', 'threat', 'insult', 'identity_hate']\n",
    "    text = dataset['comment_text']\n",
    "    labels = dataset[label_cols]\n",
    "    \n",
    "    X_rnn = []\n",
    "    for comment in text:\n",
    "        # Train example is list of tokens\n",
    "        X_rnn.append(comment.split())\n",
    "        \n",
    "    Y_rnn = []\n",
    "    for _, labels in labels.iterrows():\n",
    "        # Since this is multilabel problem, each y is a list of 0/1 for each of the\n",
    "        # six classes.\n",
    "        Y_rnn.append(list(labels))\n",
    "        \n",
    "    return X_rnn, Y_rnn"
   ]
  },
  {
   "cell_type": "code",
   "execution_count": 6,
   "metadata": {},
   "outputs": [],
   "source": [
    "X_rnn_train, Y_rnn_train = build_rnn_dataset(train)"
   ]
  },
  {
   "cell_type": "code",
   "execution_count": 7,
   "metadata": {},
   "outputs": [
    {
     "data": {
      "text/plain": [
       "['GET',\n",
       " 'FUCKED',\n",
       " 'UP.',\n",
       " 'GET',\n",
       " 'FUCKEEED',\n",
       " 'UP.',\n",
       " 'GOT',\n",
       " 'A',\n",
       " 'DRINK',\n",
       " 'THAT',\n",
       " 'YOU',\n",
       " 'CANT',\n",
       " 'PUT',\n",
       " 'DOWN???/',\n",
       " 'GET',\n",
       " 'FUCK',\n",
       " 'UP',\n",
       " 'GET',\n",
       " 'FUCKED',\n",
       " 'UP.']"
      ]
     },
     "execution_count": 7,
     "metadata": {},
     "output_type": "execute_result"
    }
   ],
   "source": [
    "X_rnn_train[51][:20]"
   ]
  },
  {
   "cell_type": "code",
   "execution_count": 8,
   "metadata": {},
   "outputs": [
    {
     "data": {
      "text/plain": [
       "[1, 0, 1, 0, 0, 0]"
      ]
     },
     "execution_count": 8,
     "metadata": {},
     "output_type": "execute_result"
    }
   ],
   "source": [
    "Y_rnn_train[51]"
   ]
  },
  {
   "cell_type": "markdown",
   "metadata": {},
   "source": [
    "## Get vocab for RNN"
   ]
  },
  {
   "cell_type": "code",
   "execution_count": 9,
   "metadata": {
    "collapsed": true
   },
   "outputs": [],
   "source": [
    "full_train_vocab = sst.get_vocab(X_rnn_train)"
   ]
  },
  {
   "cell_type": "code",
   "execution_count": 10,
   "metadata": {},
   "outputs": [
    {
     "name": "stdout",
     "output_type": "stream",
     "text": [
      "sst_full_train_vocab has 532,300 items\n"
     ]
    }
   ],
   "source": [
    "print(\"sst_full_train_vocab has {:,} items\".format(len(full_train_vocab)))"
   ]
  },
  {
   "cell_type": "code",
   "execution_count": 11,
   "metadata": {
    "collapsed": true
   },
   "outputs": [],
   "source": [
    "train_vocab = sst.get_vocab(X_rnn_train,)"
   ]
  },
  {
   "cell_type": "code",
   "execution_count": 12,
   "metadata": {},
   "outputs": [
    {
     "name": "stdout",
     "output_type": "stream",
     "text": [
      "sst_full_train_vocab has 532,300 items\n"
     ]
    }
   ],
   "source": [
    "print(\"sst_full_train_vocab has {:,} items\".format(len(train_vocab)))"
   ]
  },
  {
   "cell_type": "markdown",
   "metadata": {},
   "source": [
    "## Train RNN "
   ]
  },
  {
   "cell_type": "code",
   "execution_count": 56,
   "metadata": {
    "collapsed": true
   },
   "outputs": [],
   "source": [
    "num_train = 10000"
   ]
  },
  {
   "cell_type": "code",
   "execution_count": 57,
   "metadata": {
    "collapsed": true
   },
   "outputs": [],
   "source": [
    "tf_rnn = TfRNNClassifier(\n",
    "    train_vocab,\n",
    "    embed_dim=50,\n",
    "    hidden_dim=50,\n",
    "    max_length=50,\n",
    "    hidden_activation=tf.nn.tanh,\n",
    "    cell_class=tf.nn.rnn_cell.LSTMCell,\n",
    "    train_embedding=True,\n",
    "    max_iter=50,\n",
    "    eta=0.1)"
   ]
  },
  {
   "cell_type": "code",
   "execution_count": 58,
   "metadata": {},
   "outputs": [
    {
     "name": "stderr",
     "output_type": "stream",
     "text": [
      "Iteration 50: loss: 7.5037748329341415"
     ]
    }
   ],
   "source": [
    "_ = tf_rnn.fit(X_rnn_train, Y_rnn_train)"
   ]
  },
  {
   "cell_type": "code",
   "execution_count": 61,
   "metadata": {
    "collapsed": true
   },
   "outputs": [],
   "source": [
    "tf_rnn_predictions = tf_rnn.predict(X_rnn_train)"
   ]
  },
  {
   "cell_type": "code",
   "execution_count": 62,
   "metadata": {},
   "outputs": [
    {
     "data": {
      "text/plain": [
       "0.9807663846490634"
      ]
     },
     "execution_count": 62,
     "metadata": {},
     "output_type": "execute_result"
    }
   ],
   "source": [
    "roc_auc_score(np.array(Y_rnn_train), tf_rnn_predictions)"
   ]
  },
  {
   "cell_type": "code",
   "execution_count": 16,
   "metadata": {},
   "outputs": [
    {
     "name": "stdout",
     "output_type": "stream",
     "text": [
      "['COCKSUCKER', 'BEFORE', 'YOU', 'PISS', 'AROUND', 'ON', 'MY', 'WORK']\n",
      "[9.9502230e-01 9.8707169e-01 9.8670584e-01 1.7316957e-04 9.9997211e-01\n",
      " 4.7941774e-02]\n",
      "[1, 1, 1, 0, 1, 0]\n",
      "['Hey...', 'what', 'is', 'it..', '@', '|', 'talk', '.', 'What', 'is', 'it...', 'an', 'exclusive', 'group', 'of', 'some', 'WP', 'TALIBANS...who', 'are', 'good', 'at', 'destroying,', 'self-appointed', 'purist', 'who', 'GANG', 'UP', 'any', 'one', 'who', 'asks', 'them', 'questions', 'abt', 'their', 'ANTI-SOCIAL', 'and', 'DESTRUCTIVE', '(non)-contribution', 'at', 'WP?', 'Ask', 'Sityush', 'to', 'clean', 'up', 'his', 'behavior', 'than', 'issue', 'me', 'nonsensical', 'warnings...']\n",
      "[9.90504324e-01 5.61857771e-04 1.02275452e-02 2.11670040e-03\n",
      " 8.71731155e-03 1.14875955e-04]\n",
      "[1, 0, 0, 0, 0, 0]\n",
      "['Bye!', \"Don't\", 'look,', 'come', 'or', 'think', 'of', 'comming', 'back!', 'Tosser.']\n",
      "[9.8992831e-01 7.7116280e-04 4.5293197e-03 1.0671234e-03 5.4652090e-03\n",
      " 6.5570472e-05]\n",
      "[1, 0, 0, 0, 0, 0]\n",
      "['You', 'are', 'gay', 'or', 'antisemmitian?', 'Archangel', 'WHite', 'Tiger', 'Meow!', 'Greetingshhh!', 'Uh,', 'there', 'are', 'two', 'ways,', 'why', 'you', 'do', 'erased', 'my', 'comment', 'about', 'WW2,', 'that', 'holocaust', 'was', 'brutally', 'slaying', 'of', 'Jews', 'and', 'not', 'gays/Gypsys/Slavs/anyone...', '1', '-', 'If', 'you', 'are', 'anti-semitian,', 'than', 'shave', 'your', 'head', 'bald', 'and', 'go', 'to', 'the', 'skinhead', 'meetings!', '2', '-', 'If', 'you', 'doubt', 'words', 'of', 'the', 'Bible,', 'that', 'homosexuality', 'is', 'a', 'deadly', 'sin,', 'make', 'a', 'pentagram', 'tatoo', 'on', 'your', 'forehead', 'go', 'to', 'the', 'satanistic', 'masses', 'with', 'your', 'gay', 'pals!', '3', '-', 'First', 'and', 'last', 'warning,', 'you', 'fucking', 'gay', '-', 'I', \"won't\", 'appreciate', 'if', 'any', 'more', 'nazi', 'shwain', 'would', 'write', 'in', 'my', 'page!', 'I', \"don't\", 'wish', 'to', 'talk', 'to', 'you', 'anymore!', 'Beware', 'of', 'the', 'Dark', 'Side!']\n",
      "[0.9999355  0.01459724 0.9940404  0.04043012 0.9999658  0.9424291 ]\n",
      "[1, 0, 1, 0, 1, 1]\n",
      "['FUCK', 'YOUR', 'FILTHY', 'MOTHER', 'IN', 'THE', 'ASS,', 'DRY!']\n",
      "[0.9999552  0.00968371 0.9859411  0.00518027 0.9995454  0.00363055]\n",
      "[1, 0, 1, 0, 1, 0]\n",
      "[\"I'm\", 'Sorry', \"I'm\", 'sorry', 'I', 'screwed', 'around', 'with', 'someones', 'talk', 'page.', 'It', 'was', 'very', 'bad', 'to', 'do.', 'I', 'know', 'how', 'having', 'the', 'templates', 'on', 'their', 'talk', 'page', 'helps', 'you', 'assert', 'your', 'dominance', 'over', 'them.', 'I', 'know', 'I', 'should', 'bow', 'down', 'to', 'the', 'almighty', 'administrators.', 'But', 'then', 'again,', \"I'm\", 'going', 'to', 'go', 'play', 'outside....with', 'your', 'mom.', '76.122.79.82']\n",
      "[9.9270964e-01 1.7036833e-03 5.2405861e-03 2.0513225e-03 6.2167095e-03\n",
      " 1.2374512e-04]\n",
      "[1, 0, 0, 0, 0, 0]\n",
      "['GET', 'FUCKED', 'UP.', 'GET', 'FUCKEEED', 'UP.', 'GOT', 'A', 'DRINK', 'THAT', 'YOU', 'CANT', 'PUT', 'DOWN???/', 'GET', 'FUCK', 'UP', 'GET', 'FUCKED', 'UP.', \"I'M\", 'FUCKED', 'UP', 'RIGHT', 'NOW!']\n",
      "[9.7951221e-01 9.3561620e-04 6.6329819e-01 1.2372814e-02 2.9827163e-01\n",
      " 5.0981308e-04]\n",
      "[1, 0, 1, 0, 0, 0]\n",
      "['Stupid', 'peace', 'of', 'shit', 'stop', 'deleting', 'my', 'stuff', 'asshole', 'go', 'die', 'and', 'fall', 'in', 'a', 'hole', 'go', 'to', 'hell!']\n",
      "[0.9995352  0.8508714  0.9552523  0.00906316 0.99936146 0.09946131]\n",
      "[1, 1, 1, 0, 1, 0]\n",
      "['=Tony', 'Sidaway', 'is', 'obviously', 'a', 'fistfuckee.', 'He', 'loves', 'an', 'arm', 'up', 'his', 'ass.']\n",
      "[0.9999325  0.00872917 0.9771075  0.0053432  0.9990895  0.00342262]\n",
      "[1, 0, 1, 0, 1, 0]\n",
      "['My', 'Band', \"Page's\", 'deletion.', 'You', 'thought', 'I', 'was', 'gone.', 'Deleting', 'the', 'comment', 'I', 'posted', 'on', 'your', \"'talk\", \"page'\", 'does', 'not', 'delete', 'my', 'feelings', 'for', 'your', 'hasty', 'decision', 'to', 'delete', 'my', 'page.', 'You,', 'sir,', 'are', 'still', 'a', 'cock-sucking', 'douche', 'fuck.', 'Sit', 'back', 'for', 'a', 'second', 'and', 'think', 'about', 'what', 'your', 'life', 'has', 'become.', '............', 'Done?', 'That', \"didn't\", 'take', 'long', 'did', 'it?', 'Nope.', 'Because,', 'as', 'I', 'am', 'most', 'certainly', 'aware,', 'your', 'life', 'is', 'a', 'shitstorm', 'of', 'sitting', 'in', 'front', 'of', 'the', 'computer', 'masturbating', 'to', 'fictional', 'creatures.', 'Your', 'attempts', 'to', 'get', 'rid', 'of', 'me', 'are', 'mediocre', 'at', 'best.', 'You', 'are', 'constantly', 'sucking', 'the', 'dick', 'of', 'failure.', 'You', \"don't\", 'want', 'a', 'personal', 'attack,', 'huh?', 'Well,', 'too', 'bad,', 'Fuckcock', 'McDickerson.', \"You've\", 'got', 'one.', 'From', 'me.', 'You', 'can', 'go', 'ahead', 'and', 'delete', 'my', 'profile', 'from', 'wikipedia.', \"I'll\", 'just', 'make', 'another', 'one', 'and', 'come', 'right', 'back', 'to', \"'Syrthiss's\", 'talk', 'page', 'and', 'insult', 'the', 'dick', 'off', 'of', 'you.', 'How', 'could', 'you', 'shatter', 'the', 'dreams', 'of', 'an', 'innocent', 'eighteen', 'year', 'old', 'college', 'freshman', 'trying', 'to', 'make', 'a', 'name', 'for', 'his', 'band.', 'Does', 'that', 'make', 'you', 'happy?', 'Fucking', 'with', 'people', 'because', \"you're\", 'an', 'overweight,', 'single,', 'old', 'man', 'in', 'a', 'dead-end', 'job.', 'Did', 'you', 'spot', 'that', 'perhaps', 'someone', 'else', 'was', 'going', 'to', 'follow', 'his', 'dreams', 'and', 'you', 'were', 'trying', 'to', 'hold', 'him', 'back', 'so', 'somebody', 'else', 'could', 'suffer', 'like', 'you?', 'Yes', 'you', 'did.', 'I', \"don't\", 'make', 'empty', 'threats,', 'so', 'I', \"won't\", 'be', 'saying', 'anything', 'along', 'the', 'lines', 'of', \"'i'll\", 'hurt', \"you'\", 'or', \"'i'll\", 'eat', 'the', 'children', 'from', 'within', 'your', \"sister's\", \"womb',\", 'but', 'I', 'will', 'say', 'that', 'you', 'are', 'a', 'asshole,', 'son-of-a-bitch,', 'mother', 'fucking', 'cock', 'sucker.', 'So,', 'go', 'eat', 'some', 'more', 'food', 'and', 'drown', 'your', 'sorrows', 'you', 'premature', 'ejaculating,', 'bald', 'headed', 'fuck.', 'You', 'should', 'do', 'something', 'nice', 'for', 'yourself,', 'maybe', 'go', 'grab', 'a', 'couple', 'of', 'Horny', 'Goat', 'Weeds', 'from', 'your', 'local', 'convenience', 'store', 'and', 'jack', 'off', 'for', 'a', 'little', 'longer', 'than', 'three', 'minutes', 'tonight.', 'Sincerely,', 'An', 'Asshole', \"That's\", 'Better', 'Than', 'You', 'In', 'Every', 'Way.']\n",
      "[9.4957542e-01 3.0739724e-03 7.6910013e-01 3.5627801e-02 9.4082937e-02\n",
      " 3.9964376e-04]\n",
      "[1, 0, 1, 0, 0, 0]\n",
      "['Why', \"can't\", 'you', 'believe', 'how', 'fat', 'Artie', 'is?', 'Did', 'you', 'see', 'him', 'on', 'his', 'recent', 'appearence', 'on', 'the', 'Tonight', 'Show', 'with', 'Jay', 'Leno?', 'He', 'looks', 'absolutely', 'AWFUL!', 'If', 'I', 'had', 'to', 'put', 'money', 'on', 'it,', \"I'd\", 'say', 'that', 'Artie', 'Lange', 'is', 'a', \"can't\", 'miss', 'candidate', 'for', 'the', '2007', 'Dead', 'pool!', 'Kindly', 'keep', 'your', 'malicious', 'fingers', 'off', 'of', 'my', 'above', 'comment,', '.', 'Everytime', 'you', 'remove', 'it,', 'I', 'will', 'repost', 'it!!!']\n",
      "[9.89706993e-01 5.13239822e-04 9.21906531e-03 1.81105058e-03\n",
      " 7.33492337e-03 1.02899496e-04]\n",
      "[1, 0, 0, 0, 0, 0]\n",
      "['All', 'of', 'my', 'edits', 'are', 'good.', 'Cunts', 'like', 'you', 'who', 'revert', 'good', 'edits', 'because', \"you're\", 'too', 'stupid', 'to', 'understand', 'how', 'to', 'write', 'well', ',', 'and', 'then', 'revert', 'other', 'edits', 'just', 'because', \"you've\", 'decided', 'to', 'bear', 'a', 'playground', 'grudge,', 'are', 'the', 'problem.', 'Maybe', 'one', 'day', \"you'll\", 'realise', 'the', 'damage', 'you', 'did', 'to', 'a', 'noble', 'project.', '201.215.187.159']\n",
      "[0.99997807 0.00506296 0.98078823 0.00198501 0.99988365 0.00381565]\n",
      "[1, 0, 1, 0, 1, 0]\n",
      "['Hi!', 'I', 'am', 'back', 'again!', 'Last', 'warning!', 'Stop', 'undoing', 'my', 'edits', 'or', 'die!']\n",
      "[0.95823187 0.00823903 0.25587016 0.530872   0.14214917 0.01405215]\n",
      "[1, 0, 0, 1, 0, 0]\n",
      "['Would', 'you', 'both', 'shut', 'up,', 'you', \"don't\", 'run', 'wikipedia,', 'especially', 'a', 'stupid', 'kid.']\n",
      "[9.9533445e-01 9.5092255e-04 1.9052342e-01 2.0043733e-02 9.1913533e-01\n",
      " 1.2806497e-03]\n",
      "[1, 0, 0, 0, 1, 0]\n",
      "['A', 'pair', 'of', 'jew-hating', 'weiner', 'nazi', 'schmucks.']\n",
      "[0.9997335  0.02277288 0.9969861  0.01005986 0.99998176 0.9795899 ]\n",
      "[1, 0, 1, 0, 1, 1]\n",
      "['\"', 'SORRY', 'PUCK', 'BUT', 'NO', 'ONE', 'EVER', 'SAID', 'DICK', 'WAS', 'NUMBER', 'ONE!!', 'But', 'he', 'is', 'clearly', 'listed', 'as', 'being', '\"\"second', 'only', 'to', 'Batman\"\"', 'and', 'a', '\"\"master', 'detective', 'and', 'martial', 'artist\"\"', 'and', 'been', 'trained', 'in', 'all', 'the', 'mentioned', 'combat', 'discplines.', 'No', 'need', 'to', 'mention', 'in', 'skills/abilities', 'about', 'the', 'battles', \"he's\", 'lost', 'and', 'won', 'because', 'thats', 'not', 'what', 'an', 'encylopia', 'is', 'supposed', 'to', 'do.', 'Also,', 'what', 'your', 'problem', 'is', 'your', 'going', 'by', 'low', 'end', 'showings', 'and', 'not', 'HIGH', 'end', 'showings', 'where', \"he's\", 'proven', 'more', 'than', 'a', 'match', 'for', 'a', 'meta', 'like', 'Slade', 'and', 'pinned', 'Shiva', 'down', 'in', 'one', 'of', 'his', 'earliest', 'appearences.', '\"']\n",
      "[3.0072041e-02 1.6286675e-03 5.3275009e-03 4.7928449e-07 3.9360989e-03\n",
      " 5.7245393e-07]\n",
      "[1, 0, 0, 0, 0, 0]\n",
      "['\"', 'UNBLOCK', 'ME', 'OR', \"I'LL\", 'GET', 'MY', 'LAWYERS', 'ON', 'TO', 'YOU', 'FOR', 'BLOCKING', 'MY', 'CONSTITUTIONAL', 'RIGHT', 'TO', 'FREE', 'SPEECH\"']\n",
      "[9.9353176e-01 7.4207032e-04 1.2484955e-02 3.6720606e-03 8.1287287e-03\n",
      " 2.1074073e-04]\n",
      "[1, 0, 0, 0, 0, 0]\n",
      "['You', 'should', 'be', 'fired,', \"you're\", 'a', 'moronic', 'wimp', 'who', 'is', 'too', 'lazy', 'to', 'do', 'research.', 'It', 'makes', 'me', 'sick', 'that', 'people', 'like', 'you', 'exist', 'in', 'this', 'world.']\n",
      "[0.9947232  0.0011712  0.18145393 0.03198163 0.9321646  0.00253405]\n",
      "[1, 0, 0, 0, 1, 0]\n",
      "['I', 'think', 'that', 'your', 'a', 'Fagget', 'get', 'a', 'oife', 'and', 'burn', 'in', 'Hell', 'I', 'hate', 'you', \"'m\", 'sorry', 'we', 'cant', 'have', 'any', 'more', 'sex', \"i'm\", 'running', 'out', 'of', 'conndoms']\n",
      "[0.99982494 0.18057278 0.99863213 0.5365683  0.99777514 0.95070595]\n",
      "[1, 0, 1, 1, 1, 1]\n",
      "['REPLY', 'ABOVE:', 'That', 'was', 'me,', 'loser.', 'The', 'UN', 'defines', 'Vietnam', 'to', 'be', 'part', 'of', 'Southeast', 'Asia.', 'And', 'far', 'as', 'I', 'know', 'Vietnam', 'is', 'part', 'of', 'ASEAN,', 'and', 'used', 'to', 'be', 'part', 'of', 'French', 'Indochina', 'with', 'Laos', 'and', 'all', 'those', 'shit', 'countries', 'Anyway', 'your', 'culture', 'has', 'always', 'been', 'more', 'influenced', 'by', 'SEA', 'than', 'Han', 'Chinese', '(as', 'in', 'proper', 'Yangtze', 'Han', 'Chinese,', 'not', 'the', 'fringe', 'indigenous', 'tribes', 'in', 'Guangzhou/Guangxi).', 'Just', 'admit', 'that', 'you', 'vietnamese', 'are', 'all', 'a', 'bunch', 'of', 'wannabe', 'crap', 'people.', 'ALL', 'the', 'east', 'asian', 'people', \"I've\", 'spoken', 'to', 'thinks', 'of', 'Vietnam', 'as', 'a', 'very', 'integral', 'part', 'of', 'SEA,', 'and', 'we', 'all', 'think', \"you're\", 'backward,', 'dirty', 'and', 'speak', 'in', 'a', 'horrible', 'swearing', 'language.', \"Doesn't\", 'matter', 'what', 'crap', 'you', 'spout', 'on', 'Wikipedia,', \"won't\", 'change', 'the', 'way', 'people', 'in', 'the', 'real', 'world', 'think.']\n",
      "[1.48593765e-02 3.90464324e-03 1.90677885e-02 7.92536048e-06\n",
      " 9.75682497e-01 9.32620023e-05]\n",
      "[0, 0, 0, 0, 1, 0]\n",
      "['you', 'are', 'a', 'stupid', 'fuck', 'and', 'your', \"mother's\", 'cunt', 'stinks']\n",
      "[0.9998969  0.77873486 0.9993311  0.02866323 0.99975437 0.09416192]\n",
      "[1, 1, 1, 0, 1, 0]\n",
      "['Your', 'blatant', 'POV', 'pushing', 'Neither', 'of', 'you', 'guys', 'has', 'made', 'any', 'contribution', 'to', 'this', 'Italian', 'history', 'article', 'other', 'than', 'to', 'shove', 'your', 'unhistorical', 'unconstructive', 'modern', 'POV', 'in', 'my', 'face.', 'This', 'is', 'a', 'HISTORY', 'article.', 'HISTORY.', 'Have', 'you', 'heard', 'of', 'that?', 'This', 'is', 'the', 'reason', 'why', 'so', 'many', 'people', 'get', 'pissed', 'off', 'about', 'the', 'pedantry', 'and', 'idiocy', 'and', 'triviality', 'of', 'Wikipedia.', 'J*sus.', 'Get', 'a', 'f*cking', 'life.']\n",
      "[9.7089058e-01 1.6899617e-02 7.1688932e-01 8.1009701e-02 2.2043785e-01\n",
      " 8.1241777e-04]\n",
      "[1, 0, 1, 0, 0, 0]\n",
      "['Give', 'me', 'a', 'permanat', 'block', 'raseac....!!!', 'remember', 'me....!!!', 'Muslims', 'dont', 'you', 'worry', 'for', 'these', 'images', 'they', 'are', 'trying', 'to', 'hurt', 'us', 'but', 'they', 'cant', 'look', 'these', 'images', 'are', 'fake', 'and', 'have', 'nothing', 'to', 'do', 'with', 'Islam', 'or', 'our', 'prophet', 'even', 'their', 'article', 'is', 'so', 'lame', 'wikipedia', 'is', 'not', 'an', 'authentic', 'source', 'its', 'an', 'encyclopedia', 'for', 'the', 'kids', 'which', 'has', 'not', 'authenticity', 'anyone', 'can', 'edit', 'or', 'write', 'whatever', 'they', 'think...just', 'like', 'raeasc', 'you', 'can', 'see', 'he', 'does', 'not', 'knows', 'what', 'Islam', 'is', 'and', 'he', 'talks', 'about', 'it', 'so', 'forget', 'about', 'wiki', 'its', 'lame', 'they', 'have', 'no', 'authenticity...i', 'recommend', 'they', 'should', 'add', 'pissed', 'christ', 'in', 'jessus', 'article....they', 'should...']\n",
      "[9.9086237e-01 6.0034980e-04 1.0154396e-02 2.2012261e-03 8.5726567e-03\n",
      " 1.2194495e-04]\n",
      "[1, 0, 0, 0, 0, 0]\n",
      "['Fuck', 'you,', 'block', 'me,', 'you', 'faggot', 'pussy!']\n",
      "[0.9998907  0.0038782  0.9874094  0.00146123 0.99986315 0.00530209]\n",
      "[1, 0, 1, 0, 1, 0]\n",
      "['Kill', 'all', 'niggers.', 'I', 'have', 'hard,', 'that', 'others', 'have', 'said', 'this..', 'should', 'this', 'be', 'included?', 'That', 'racists', 'sometimes', 'say', 'these.']\n",
      "[0.99995935 0.03386324 0.9976127  0.051575   0.9999608  0.9364139 ]\n",
      "[1, 0, 1, 0, 1, 1]\n",
      "['Burn', 'Deck', 'If', \"that'd\", \"guy's\", 'burn', 'deck', 'is', 'like', 'what', 'I', 'think', 'it', 'is', 'than', 'he', 'is', 'in', 'for', 'a', 'blrude', 'awakening!!!', 'Leviathan', 'motherfucker!!!']\n",
      "[0.99995744 0.00458678 0.9695439  0.00318915 0.9997142  0.00363411]\n",
      "[1, 0, 1, 0, 1, 0]\n",
      "['u', 'r', 'a', 'tw@', 'fuck', 'off', 'u', 'gay', 'boy.U', 'r', 'smelly.Fuck', 'ur', 'mum', 'poopie']\n",
      "[0.99995315 0.01381359 0.9948757  0.04591377 0.9999727  0.9466787 ]\n",
      "[1, 0, 1, 0, 1, 1]\n",
      "['Atheism', 'is', 'full', 'of', 'bias', 'shit']\n",
      "[9.90340769e-01 5.56175248e-04 9.91059095e-03 2.07978673e-03\n",
      " 8.57178587e-03 1.13310525e-04]\n",
      "[1, 0, 0, 0, 0, 0]\n",
      "['Hey', 'why', 'you', 'are', 'spreading', 'misconceptions', 'and', 'trying', 'to', 'spread', 'false', 'information', 'to', 'the', 'people.You', 'not', 'even', 'know', 'who', 'won', 'the', 'battle', 'and', 'who', 'lost.you', 'are', 'the', 'cheapest', 'person', 'on', 'the', 'earth.Bloody', 'ignorant', 'fool.Check', 'sources', 'before', 'spreading', 'rumors']\n",
      "[9.90306377e-01 5.61974535e-04 9.91800521e-03 2.05321098e-03\n",
      " 8.23819358e-03 1.14536124e-04]\n",
      "[1, 0, 0, 0, 0, 0]\n",
      "['\"', 'And', 'you', 'are?', 'Let', 'me', 'know', 'when', \"you've\", 'crawled', 'out', 'of', 'their', 'arses.', \"''''''\", 'Dick', 'Laurent', 'is', 'dead', '\"']\n",
      "[2.9807599e-02 1.6782024e-03 5.2340901e-03 5.0682814e-07 4.0477468e-03\n",
      " 6.2883214e-07]\n",
      "[1, 0, 0, 0, 0, 0]\n",
      "['this', 'user', 'is', 'such', 'a', 'worthless', 'goddamn', 'faggot', 'fuck', 'you', 'faggot']\n",
      "[0.99996316 0.00604745 0.9793784  0.00275604 0.9997819  0.00306197]\n",
      "[1, 0, 1, 0, 1, 0]\n",
      "['Fuck', 'off', 'You', 'are', 'NOT', 'an', 'administrator.', 'You', \"DON'T\", 'have', 'the', 'authority', 'to', 'tell', 'me', 'what', 'to', 'do.']\n",
      "[0.99720395 0.02881148 0.70670336 0.07596713 0.1946818  0.00512042]\n",
      "[1, 0, 1, 0, 0, 0]\n",
      "['Well', 'you', 'are', 'ridiculous,', 'in', 'fact', 'I', 'suspect', 'that', 'you', 'are', 'Calton,', 'please', 'block', 'me,', 'I', 'dont', 'care....']\n",
      "[9.9323517e-01 9.8139013e-04 1.1400445e-02 3.9992142e-03 6.8075093e-03\n",
      " 2.7700517e-04]\n",
      "[1, 0, 0, 0, 0, 0]\n",
      "['\"', 'Fuck', 'you', 'Fuck', 'you', 'award', 'go', 'fuck', 'yourself', '\"']\n",
      "[0.9890975  0.1215938  0.9112998  0.00224773 0.98811907 0.03135116]\n",
      "[1, 0, 1, 0, 1, 0]\n",
      "['Keep', 'your', 'eye', 'on', 'it,', 'no', 'one', 'cares,', 'OK?', 'People', 'can', 'put', 'what', 'they', 'want', 'on', 'here,', 'and', 'clean', 'it', 'up', 'all', 'you', 'want', 'but', 'no', 'one', 'cares.', 'God,', \"you're\", 'so', \"freakin'\", 'stupid!', 'Omnigan']\n",
      "[0.99542063 0.00109983 0.22111617 0.06150623 0.94358164 0.0036821 ]\n",
      "[1, 0, 0, 0, 1, 0]\n",
      "['MATT', 'HARDY', 'IS', 'SO', \"FUCKY!!!''Italic\", \"text[[Media:Example.ogg]]'''''MATT\", 'HARDY', 'IS', 'SO', 'FUCKY!!!']\n",
      "[0.9906493  0.00936937 0.5658299  0.1724833  0.25053966 0.00277031]\n",
      "[1, 0, 1, 0, 0, 0]\n",
      "['God', 'is', 'dead', 'I', \"don't\", 'mean', 'to', 'startle', 'anyone', 'but', 'God', 'is', 'dead.', 'We', 'should', 'not', 'worry', 'about', 'him', 'anymore.', 'Just', 'thought', 'I', 'would', 'let', 'everyone', 'know.', 'Well,', 'goodbye', 'and', 'good', 'luck', 'with', 'your', 'newfound', 'crisis', 'of', 'faith!', '24.77.205.229']\n",
      "[9.9216330e-01 7.1840727e-04 1.1444997e-02 3.1082325e-03 8.5156457e-03\n",
      " 1.7765244e-04]\n",
      "[1, 0, 0, 0, 0, 0]\n",
      "['Have', 'you', 'seen', 'the', 'reference', 'to', 'their', 'claim,', 'you', \"moron''??\", 'This', 'is', 'not', 'a', 'source.', 'It´s', 'their', 'POV.', 'Once', 'I', 'have', 'more', 'time', 'I', 'will', 'reduce', 'your', 'Pashtun', 'nationalist', 'POVs', 'here', 'on', 'Wiki', 'and', 'give', 'order', 'to', 'my', 'uncles', 'and', 'cousins', 'the', 'execution', 'of', 'Pashtuns', 'in', 'the', 'entire', 'northern', 'Afghanistan', 'down', 'to', 'Gardez,', 'Jalalabad,', 'Lashkargah,', 'Logar,', 'Paghman,', 'Laghman,', 'Kunduz,', 'Herat,', 'Farah', '...', 'whereever', 'immigrant', 'descandants', 'of', 'violent', 'Kuchis', 'settled', 'and', 'took', 'non-Pashtun', 'lands', 'away', 'and', 'traditional', 'Tajik', 'countries.', '84.59.190.210']\n",
      "[9.9294430e-01 4.6393968e-04 1.0209175e-02 2.2857157e-03 8.5464520e-03\n",
      " 1.2784509e-04]\n",
      "[1, 0, 0, 0, 0, 0]\n",
      "['Thank', 'you', 'Hei,', \"it's\", 'me,', 'the', 'William', 'Hope', 'fan.', 'Guess', 'what', '-', 'I', 'am', 'back', 'at', 'a', 'new', 'IP,', 'ready', 'to', 'vandalize', 'everything', 'regarding', 'William', 'Hope,', 'and', 'you', \"can't\", 'do', 'sh-t', 'to', 'stop', 'me,', 'maybe', 'delay', 'me,', 'but', 'no', 'stopping', 'me.', 'So', 'lets', 'salute', 'to', 'some', 'more', 'William', 'Hope', 'lunacy', 'by', 'shoving', 'his', 'p-nis', 'in', 'my', 'mouth.']\n",
      "[9.8830914e-01 1.2256718e-03 1.2218090e-02 3.8291665e-03 5.9022941e-03\n",
      " 2.5764850e-04]\n",
      "[1, 0, 0, 0, 0, 0]\n",
      "['Fuck', 'you', '-User:The', 'Bohemian', 'Shinobis', 'yeah,', \"that's\", 'right,', 'bitch!', 'You', 'are', 'all', 'pieces', 'of', 'shit!']\n",
      "[0.9999566  0.0101183  0.98234934 0.0047837  0.9994999  0.00413201]\n",
      "[1, 0, 1, 0, 1, 0]\n",
      "['Dear', 'Mokele,', 'You', 'have', 'no', 'right', 'to', 'tell', 'people', 'to', 'die', 'in', 'a', 'fire.', 'Just', 'because', 'that', 'IP', 'address', 'is', 'being', 'used', 'for', 'vandilism', 'does', 'not', 'mean', 'you', 'can', 'talk', 'to', 'people', 'like', 'that.', 'You', 'are', 'in', 'fact', 'a', 'bigger', 'loser', 'than', 'the', 'person', 'who', 'you', 'block.']\n",
      "[9.9766564e-01 1.6526230e-04 4.7280859e-02 2.5384040e-03 9.5729786e-01\n",
      " 3.0032560e-04]\n",
      "[1, 0, 0, 0, 1, 0]\n",
      "['Thank', 'you', 'for', 'your', 'RACIST', 'experimenting', 'with', 'the', 'page', 'Katherine', 'Heigl', 'on', 'Wikipedia.', 'Your', 'test', 'worked,', 'and', 'it', 'has', 'been', 'reverted', 'or', 'removed.', 'Please', 'use', 'the', 'sandbox', 'for', 'any', 'other', 'tests', 'you', 'may', 'want', 'to', 'do.', 'Take', 'a', 'look', 'at', 'the', 'welcome', 'page', 'to', 'learn', 'more', 'about', 'contributing', 'to', 'our', 'encyclopedia.', 'Now', 'go', 'FUCK', 'YOURSELF', 'YOU', 'RACIST', 'CANUCK', 'ASSHOLE1', 'U', 'HAVE', 'NOTHING', 'BETTER', 'TO', 'DO', 'THAN', 'CENSOR', 'THE', 'TRUTH', 'U', 'GODDAMN', 'KKKKANUCK', 'PIECE', 'O', 'TRASH///', 'DICKHEAD', 'MORON', 'MOTHERFUCKER111LOL', 'YOU', 'CANUCKS', 'R', 'REAL', 'RETARDS1', 'FUK', 'OFF', 'DICKWEED!', 'EDIT', 'ANOTHER', '1', 'OF', 'MY', 'EIDTS', 'AND', \"YOU'LL\", 'BE', 'EXPEL', 'FROM', 'WIKI', 'BY', 'JIMBO', 'YOU', 'SOB', 'DICKHEAD11', 'SO', 'WATCH', 'IT', 'MOFO', 'PIECE', 'OF', 'GARBAGE', 'RACIST', 'MOFO', 'ASSHOLE.', 'IM', 'TRYINBG', 'TO', 'BE', 'NICE', 'HERE', 'SO', 'TAKE', 'WHAT', 'i', 'SAY', 'AS', 'A', 'COMPLIMENT!Yamla']\n",
      "[0.99989057 0.00545541 0.952329   0.00820391 0.9992887  0.00509086]\n",
      "[1, 0, 1, 0, 1, 0]\n",
      "['Be', 'careful', 'who', 'you', 'call', 'a', 'moron.']\n",
      "[9.88117516e-01 5.15906082e-04 1.07323024e-02 2.18294072e-03\n",
      " 8.69270973e-03 1.19447905e-04]\n",
      "[1, 0, 0, 0, 0, 0]\n",
      "['Gay', 'The', 'existence', 'of', 'CDVF', 'is', 'further', 'proof', 'that', 'is', 'a', 'sad', 'twat.', 'He', 'is', 'also', 'very', 'ugly,', 'and', 'has', 'a', 'willy', 'for', 'a', 'face.']\n",
      "[0.9999069  0.02838126 0.9956239  0.09043551 0.99990857 0.93665844]\n",
      "[1, 0, 1, 0, 1, 1]\n",
      "['I', 'NEVER', 'FUCKING', 'MADE', 'THIS', 'MOTHER', 'FUCKING', 'ARTICLE', 'I', 'JUST', 'FUCKING', 'EDITED', 'IT', 'AND', 'THAT', 'WAS', 'A', 'FUCKING', 'LONG', 'TIME', 'AGO', 'FUCKING', 'ASSHOLES!', 'PISSING', 'ME', 'OFF', '@']\n",
      "[0.9983505  0.00223629 0.9888598  0.0056222  0.99496293 0.00850724]\n",
      "[1, 0, 1, 0, 1, 0]\n",
      "['Fucked', 'with', 'the', 'wrong', 'muchacho.', '21:19,', 'July', '23,', '2005', '(UTC)']\n",
      "[3.8646083e-02 1.9300203e-03 4.4363528e-02 9.2288110e-06 4.6219546e-03\n",
      " 1.2955665e-05]\n",
      "[1, 0, 1, 0, 0, 0]\n",
      "['Hi', 'Im', 'a', 'fucking', 'bitch.', '50.180.208.181']\n",
      "[0.99611366 0.996231   0.99786735 0.00126398 0.999876   0.0159882 ]\n",
      "[1, 1, 1, 0, 1, 0]\n",
      "['Add', 'Mobile', 'porn', 'as', 'additional', 'WP:ALSO', 'link']\n",
      "[9.9329752e-01 9.4164966e-04 1.2155229e-02 4.0127700e-03 8.1699155e-03\n",
      " 2.5298769e-04]\n",
      "[1, 0, 0, 0, 0, 0]\n",
      "['F**K', 'ALL', 'RIDES', 'AT', 'WORLDS', 'OF', 'FUN', 'I', 'hate', 'all', 'rides', 'at', 'Worlds', 'of', 'Fun', 'because', 'they', 'are', 'sh_tty', 'and', 'boring.', 'All', 'ride', 'operators', 'at', 'WOF', 'should', 'be', 'fired', 'sued', 'and', 'hanged.', 'Burn', 'all', 'WOF', 'coasters.', 'Arrest', 'all', 'WOF', 'park', 'operators!', 'Assassinate', 'all', 'WOF', 'customers!', 'I', 'heard', 'that', 'a', 'boy', 'died', 'on', 'Timberwolf', 'on', 'August,', '2014.', \"That's\", 'stupid!', 'Worlds', 'of', 'Fun', 'should', 'have', 'nown', 'better', 'to', 'built', 'that', 'sh_t', 'ride.', 'Worlds', 'Of', 'Fun', 'cares', 'about', 'money', 'and', 'prophet', 'moar', 'than', \"they're\", 'customers.', 'Burn', 'that', 'sh_t', 'park', 'down!', 'F**K', 'YOU', 'RIDES!', 'WorldS', 'Of', 'Fun', 'is', 'dangerouser', 'than', 'GRround', 'Zero', 'and', 'Area', '51.', 'Worlds', 'of', 'Fun', 'should', 'burn', 'in', 'Hell!']\n",
      "[0.9997942  0.03211798 0.9870526  0.03175941 0.9944411  0.00543704]\n",
      "[1, 0, 1, 0, 1, 0]\n",
      "['\"\"\"Nazi', 'filth\"\"', 'is', 'impolite', '04:27,', '20', 'Jan', '2004', '(UTC)', '\"']\n",
      "[1.4000170e-02 1.4595551e-03 3.1646658e-03 2.5599851e-07 3.8850543e-03\n",
      " 2.8801523e-07]\n",
      "[1, 0, 0, 0, 1, 0]\n",
      "['I', \"don't\", 'care', 'what', 'you', 'say', 'here.', 'I', \"don't\", 'believe', 'one', 'sentence', 'anymore.']\n",
      "[9.91747618e-01 1.88592612e-03 5.72056416e-03 1.81380566e-03\n",
      " 7.02042924e-03 1.02832986e-04]\n",
      "[1, 0, 0, 0, 0, 0]\n",
      "['I', 'can', 'tell', 'you', 'what', 'the', 'argument', 'is', 'about', 'here', 'newseventsguy.', \"It's\", 'about', 'YOUR', 'retroactive', 'reversion', 'of', 'a', 'simple', 'edit', 'trying', 'to', 'include', 'secondary', 'independent', 'verification', 'of', 'sedimentary', 'nanodiamonds', 'in', 'Younger', 'Dryas', 'sediments', 'by', 'Bement', 'and', 'Madden', 'et', 'al.,', 'WITHOUT', 'DISCUSSION', 'a', 'reference', 'that', 'I', 'notice', 'has', 'NOT', 'YET', 'been', 'included', 'in', 'the', 'reference', 'list', 'still,', 'after', 'all', 'this', 'time.', 'This', 'is', 'after', 'you', 'ADMIT', 'that', 'you', 'are', 'ignorant', 'of', 'the', 'peer', 'review', 'literature', 'and', 'the', 'controversy.', 'Any', 'attempt', 'to', 'do', 'simple', 'reference', 'list', 'edits', 'on', 'this', 'page', 'have', 'been', 'stomped', 'by', 'no', 'less', 'that', 'five', 'admittedly', 'biased', 'and', 'ignorant', 'editors.', 'The', 'honorable', 'thing', 'to', 'do', 'here', 'would', 'be', 'to', 'recuse', 'yourself', 'from', 'editing', 'the', 'page,', 'as', 'I', 'have.', 'But', 'I', \"haven't\", 'seen', 'that', 'happening', 'until', 'now.', 'Good', 'luck', 'with', 'it,', \"you've\", 'already', 'made', 'complete', 'fools', 'of', 'yourselves.']\n",
      "[9.8335785e-01 1.6523901e-03 2.4764484e-03 4.2601579e-05 4.8684753e-03\n",
      " 5.0545718e-06]\n",
      "[1, 0, 0, 0, 0, 0]\n",
      "['HELLO', 'HOW', 'DO', 'I', 'GET', 'SOMEBODY', 'TO', 'FIX', 'SHIT', 'AROUND', 'HERE?']\n",
      "[0.9904525  0.0132496  0.69594    0.13480723 0.2232954  0.00114995]\n",
      "[1, 0, 1, 0, 0, 0]\n",
      "['Dictionaries', 'How', 'dare', 'you', 'call', 'my', 'contribution', 'spam!!!', 'I', 'am', 'a', 'Kurd', 'and', 'I', 'made', 'a', 'lsit', 'of', 'kurdish', 'dictionaries.', 'you', 'bloody', 'turkish', 'nationalist', 'and', 'atoricity', 'commiting', 'bone', 'breaking', 'Nazi.', 'watch', 'out', 'folk', 'this', 'slimy', 'Turk', 'is', 'trying', 'to', 'censor', 'the', 'internet', 'this', 'is', 'not', 'undemocratic', 'Turkey', 'here,', 'no', 'prison', 'cells', 'in', 'wikipedia', 'you', 'stupid', 'Turk!', 'And', 'you', 'buggers', 'want', 'membership', 'to', 'the', 'EEC']\n",
      "[0.99946266 0.1833501  0.95524204 0.40178138 0.9952389  0.44139194]\n",
      "[1, 0, 1, 0, 1, 1]\n",
      "['How', 'do', 'you', 'know', 'he', 'is', 'dead.', 'Its', 'just', 'his', 'plane', 'that', 'crashed.', 'Jeezz,', 'quit', 'busting', 'his', 'nuts,', 'folks.']\n",
      "[0.13320538 0.00468349 0.5972431  0.00897071 0.0412587  0.00122265]\n",
      "[0, 0, 1, 0, 0, 0]\n",
      "['You', 'are', 'a', 'know', 'it', 'all.....Jimbo!', 'Why', \"don't\", 'you', 'get', 'a', 'life', 'instead', 'of', 'sitting', 'in', 'front', 'of', 'your', 'computer', 'all', 'day.', 'The', 'high', 'priestess', 'of', 'knowledge,', 'indeed!']\n",
      "[9.9284995e-01 6.5345794e-04 9.2236213e-03 2.7439294e-03 5.1885289e-03\n",
      " 2.0450827e-04]\n",
      "[1, 0, 0, 0, 0, 0]\n",
      "['What', 'a', 'motherfucking', 'piece', 'of', 'crap', 'those', 'fuckheads', 'for', 'blocking', 'us!']\n",
      "[0.9993748  0.98245585 0.99795926 0.01890729 0.99872833 0.08124311]\n",
      "[1, 1, 1, 0, 1, 0]\n",
      "['You', 'sir', 'are', 'an', 'imbecile,', 'and', 'a', 'pervert.']\n",
      "[0.9944246  0.00100789 0.17072004 0.04056789 0.90961313 0.00297604]\n",
      "[1, 0, 0, 0, 1, 0]\n",
      "['\"', 'Another', 'crap', 'article', 'Parrots', 'what', 'promotion', 'websites', 'of', 'capoeira', 'schools', 'say', 'about', 'myths', 'of', 'origin.', 'And', 'also', 'that', 'persecution', 'thing.', 'By', 'the', 'late', '1800s,', 'capoeira', 'became', 'a', 'word', 'for', 'street', 'brawling.', 'Thus,', 'authorities', 'did', 'not', 'prohibit', 'or', 'sanction', '\"\"practice\"\"', 'of', 'capoeira.', 'In', 'banning', 'capoeira', 'they', 'were', 'banning', 'outright', 'street', 'brawls!', \"It's\", 'why', 'Mestre', 'Bimba', 'presented', 'his', 'art', 'as', 'Luta', 'Regional', 'Baiana.', 'No', 'decent', 'carioca', 'would', 'be', 'eager', 'to', 'sympathise', 'with', 'capoeira', 'and', 'malandrismo.', 'I', 'could', 'attempt', 'to', 'alter', 'the', 'article', 'but', \"it's\", 'become', 'such', 'a', 'mess', 'by', 'now.', '\"']\n",
      "[2.9684881e-02 1.6704710e-03 5.2455724e-03 5.0777254e-07 4.0537585e-03\n",
      " 6.3337018e-07]\n",
      "[1, 0, 0, 0, 0, 0]\n",
      "[\"I'm\", 'also', 'a', 'sock', 'puppet', 'of', 'this', 'account...SUPRISE!!', '-sincerely,', 'The', 'man', 'that', 'will', 'track', 'you', 'down', 'from', 'the', 'Internet', 'and', 'kill', 'you']\n",
      "[0.9632469  0.0025902  0.24538662 0.30495852 0.18730958 0.00504891]\n",
      "[1, 0, 0, 1, 0, 0]\n",
      "['Are', 'you', 'fucker', 'mother', 'fucker', 'have', 'nothing', 'to', 'do', 'but', 'block', 'University', 'computers.', 'Go', 'and', 'suck', 'cocks']\n",
      "[0.99995935 0.0091008  0.9852858  0.00460409 0.99965096 0.00382681]\n",
      "[1, 0, 1, 0, 1, 0]\n",
      "['HELLO', 'You', 'disgrace', 'to', 'humanity.', 'Stop', 'wasting', 'valuable', 'Internet', 'resources', '(your', 'killing', 'the', 'fucking', 'planet)', 'and', 'throw', 'out', 'your', 'PC.', 'PS', \"it's\", 'like', '3am', 'what', 'the', 'fark', 'kinda', 'life', 'do', 'you', 'have', 'on', 'Wikipedia', '24/7.', 'A', 'VERY', 'SAD', 'AND', 'LONELY', 'ONE', 'LOL.', \"Life's\", 'too', 'short', 'find', 'something', 'better', 'to', 'do']\n",
      "[0.9999112  0.01405147 0.98538905 0.01208166 0.9988518  0.00501598]\n",
      "[1, 0, 1, 0, 1, 0]\n",
      "['Your', 'retarded', 'bot', 'Your', 'bot', 'is', 'entirely', 'automated,', 'that', 'is', 'wrong.', 'You', 'should', 'not', 'leave', 'an', 'unattented', 'script', 'just', 'running', 'through', 'the', 'site', 'like', 'that,', 'it', 'is', 'idiotic', 'of', 'you', 'to', 'suppose', 'that', 'your', 'scripting', 'abilities', 'are', 'so', 'perfect', 'that', 'they', 'will', 'only', 'ever', 'make', 'proper', 'edits.', 'Banning', 'me', \"doesn't\", 'help', 'anything,', 'dipshit,', 'since', 'I', 'have', 'as', 'many', 'IPs', 'as', 'I', 'want.']\n",
      "[9.9721646e-01 7.0342183e-04 8.2080469e-02 1.8594846e-02 8.9956200e-01\n",
      " 1.8491071e-03]\n",
      "[1, 0, 0, 0, 1, 0]\n",
      "['DISLIKE', 'RACISM', 'AND', 'I', 'CAN', 'SEE', 'THAT', 'YOU', 'HAS', 'PROBLEMS', 'WITH', 'PEOPLE', 'WHO', 'SPEAKS', 'SPANISH.', 'YOU', 'ARE', 'AN', 'ANTISEMITE', 'TOO.']\n",
      "[9.9051017e-01 5.6307367e-04 1.0244013e-02 2.1261678e-03 8.7119080e-03\n",
      " 1.1526747e-04]\n",
      "[1, 0, 0, 0, 0, 0]\n",
      "['IT', 'WASNT', 'VANDALISM,', 'DICKHEAD']\n",
      "[0.99873084 0.00398343 0.97896373 0.00148174 0.99987686 0.01986453]\n",
      "[1, 0, 1, 0, 1, 0]\n",
      "['\"', 'You', 'Suck', 'If', 'you', \"don't\", 'undelete', 'the', 'page', '\"\"Barry', 'Dejay\"\"', 'I', 'will', '%$#@', 'you!\"']\n",
      "[0.9999696  0.00884809 0.9818528  0.00312044 0.9998596  0.00529994]\n",
      "[1, 0, 1, 0, 1, 0]\n",
      "['Curse', 'Wikipedia', 'has', 'no', 'respect', 'for', 'God.', 'Wikipedia', 'is', 'full', 'of', 'lies', 'or', 'dangerously', 'evil', 'half', 'truths.', 'Wikipedia', 'has', 'no', 'respect', 'for', 'religion.', 'The', 'following', 'users', 'of', 'Wikipedia,', 'namely:', 'Redtigerxyz,', 'Priyanath,', 'Emperor', 'Genius,', 'Raj2004,', 'Wikidas,', 'Wikiveer', 'and', 'DaGizza', 'have', 'all', 'committed', 'blasphemy', 'and', 'sacrilage.', 'Curse', 'upon', 'you', 'that', 'you', 'will', 'all', 'perish.', 'I', 'curse', 'the', 'following', 'users', 'of', 'Wikipedia,', 'namely:', 'Redtigerxyz,', 'Priyanath,', 'Emperor', 'Genius,', 'Raj2004,', 'Wikidas,', 'Wikiveer', 'and', 'DaGizza', 'that', 'you', 'will', 'all', 'perish.', 'I', 'curse', 'that', 'the', 'Wikipedia', 'will', 'entirely', 'perish.', 'I', 'beg', 'forgiveness', 'from', 'the', 'Supreme', 'God,', 'Lord', 'Vishnu', 'for', 'choosing', 'the', 'blasphemous', 'Wikipedia', 'website', 'to', 'write', 'about', 'the', 'truth.', 'A', 'true', 'devote', 'of', 'the', 'Supreme', 'Lord', 'Vishnu', 'has', 'been', 'hurt', 'and', 'my', 'curse', 'never', 'goes', 'in', 'vain.', 'I', 'will', 'never', 'again', 'edit', 'or', 'read', 'or', 'go', 'to', 'the', 'evil', 'Wikipedia', 'website,', 'forever', '.', 'Delete', 'my', 'user-id', 'and', 'all', 'edits', 'you', 'evil', 'Wikipedians.', 'Mr.', 'DaGizza,', 'you', 'are', 'a', 'Male', 'Chauvinist', 'Pig', 'and', 'a', 'misogynist', 'to', 'the', 'core', 'and', 'you', 'call', 'yourself', 'an', 'administrator', '!!!', 'Ridiculous', '!!!', 'Mr.', 'DaGizza,', 'you', 'are', 'a', 'curse', 'to', 'your', 'existance.', 'A', 'man', 'like', 'you,', 'who', 'cannot', 'respect', 'women', 'is', 'a', 'worthless', 'in', 'his', 'existance.', 'You', 'Wikipedians', 'are', 'useless', 'people.', 'You', 'are', 'a', 'burden', 'to', 'the', 'civilized', 'world.', 'You', 'are', 'not', 'even', 'worth', 'hatred.', 'You', 'Wikipedians', 'must', 'be', 'ignored.', 'Curse']\n",
      "[9.9719429e-01 6.1420671e-04 2.1706697e-01 2.2187207e-02 9.6844852e-01\n",
      " 2.0436419e-03]\n",
      "[1, 0, 0, 0, 1, 0]\n",
      "['Hahaha,', 'you', 'dont', 'actually', 'believe', 'this', 'bullshit', 'you', 'are', 'telling', 'me', 'right', 'now?', 'You', 'are', 'talking', 'about', 'the', 'access', 'to', 'the', 'country', 'or', 'representatives', 'to', 'the', 'government,', 'not', 'Kim', 'Jong', 'Un', 'himself.', 'Those', 'are', 'two', 'totally', 'different', 'things', '(although', 'I', 'could', 'understand', 'your', 'stupidity,', 'since', 'North', 'Koreans', 'think', 'that', 'Kim', 'Jong', 'un', 'is', 'the', 'governement,', 'im', 'just', 'saying).', 'Go', 'Troll', 'somewhere', 'else', 'kid.']\n",
      "[0.9865785  0.00399826 0.34344077 0.1397882  0.24631101 0.00257326]\n",
      "[1, 0, 1, 0, 0, 0]\n",
      "['Blocking', 'Mardyks', 'Guess', 'what?', 'Loser!', 'Know', 'what', 'a', 'cockblocker', 'is?', 'Hahahaha', '~M~', '71.39.183.86']\n",
      "[9.9396354e-01 7.1033958e-04 1.0689979e-02 3.3546074e-03 8.2513057e-03\n",
      " 1.9212105e-04]\n",
      "[1, 0, 0, 0, 0, 0]\n",
      "['Wikipedia', 'administrators', 'are', 'defending', 'a', 'mass-murdering', 'psychopath.']\n",
      "[9.9396509e-01 4.0391585e-04 1.1240108e-02 2.7512372e-03 8.9533003e-03\n",
      " 1.4324457e-04]\n",
      "[1, 0, 0, 0, 0, 0]\n",
      "['Hebrew', 'Name', 'of', 'Lydia', 'Appologies', 'to', 'Til', 'Eulenspiegel', 'I', 'thought', 'you', 'were', 'one', 'of', 'the', 'idiots', 'which', 'your', 'user', 'page', 'indicates', 'you', 'actually', 'do', 'well', 'struggling', 'against.', 'Genesis', '10:יג', 'וּמִצְרַיִם', 'יָלַד', 'אֶת-לוּדִים', 'וְאֶת-עֲנָמִים,', 'וְאֶת-לְהָבִיםוְאֶת-נַפְתֻּחִים.TAB13', 'And', 'Mizraim', 'begot', 'Ludim,', 'and', 'Anamim,', 'and', 'Lehabim,', 'and', 'Naphtuhim,', 'You', 'see', 'Ludim', 'are', 'from', 'Mitzraim', 'not', 'to', 'be', 'confused', 'with', 'Lud', 'son', 'of', 'Shem', '(in', 'the', 'far', 'east).', 'Best', 'wishes', 'and', 'keep', 'up', 'the', 'good', 'work.81.103.121.144']\n",
      "[1.4731918e-01 6.6405083e-03 3.8824957e-02 2.5024822e-03 6.9445920e-01\n",
      " 1.8611980e-04]\n",
      "[0, 0, 0, 0, 1, 0]\n",
      "['\"\\\\', 'You', 'wasted', 'your', 'own', 'time!', 'Take', 'this', 'advice', 'with', 'you:', 'Pull', 'your', 'head', 'out', 'of', 'your', 'ass!', 'Be', 'real', 'and', \"don't\", 'spend', 'the', 'rest', 'of', 'your', 'life', 'sucking', 'ass.', 'Have', 'a', 'nice', 'life!', 'Goodbye!', '(mailbox)', '\"']\n",
      "[3.0081570e-02 1.7466937e-03 5.2321861e-03 5.0769455e-07 4.1626613e-03\n",
      " 6.0038900e-07]\n",
      "[1, 0, 1, 0, 1, 0]\n",
      "['A', 'few', 'things', 'to', 'get', 'straight...', 'Firstly,', 'I', 'do', 'not', 'like', 'you.', 'You', 'look', 'like', 'a', 'smug', 'little', 'prick', 'to', 'me.', 'Secondly,', 'I', 'do', 'not', 'like', 'your', 'ethnicity.', 'Not', 'one', 'little', 'bit.', \"I'd\", 'like', 'you', 'to', 'explain', 'yourself', 'on', 'that', 'count.', 'Thirdly,', 'your', 'dog', 'is', 'a', 'bit', 'of', 'a', 'bender.', '94.1.96.85']\n",
      "[9.9227059e-01 4.1088145e-04 8.8065341e-03 2.7375328e-03 6.5258932e-03\n",
      " 1.3546317e-04]\n",
      "[1, 0, 0, 0, 0, 0]\n",
      "['ok', 'stop', 'being', 'lame.', 'seriously.', 'go', 'watch', 'pokemon.']\n",
      "[9.9073106e-01 6.1238941e-04 1.0307527e-02 2.2929148e-03 8.2944734e-03\n",
      " 1.2339611e-04]\n",
      "[1, 0, 0, 0, 0, 0]\n",
      "['I', 'did', 'not', 'intend', 'to', 'be', 'disruptive,', 'I', 'was', 'genuineley', 'upset', 'by', 'the', 'word', 'constantly.', 'I', 'only', 'tried', 'to', 'make', 'it', 'look', 'like', 'an', 'april', 'fool', 'joke', 'after', 'you', 'explanation', 'made', 'me', 'look', 'like', 'an', 'uptight', 'weirdo']\n",
      "[9.9345231e-01 4.6583588e-04 1.1154102e-02 2.6859052e-03 8.6891316e-03\n",
      " 1.4456280e-04]\n",
      "[1, 0, 0, 0, 0, 0]\n",
      "['Matt,', 'when', 'mattsanchez.info', 'goes', 'live', 'on', 'Monday,', 'among', 'other', 'things', \"you'll\", 'see', 'an', 'invitation', 'to', 'be', 'interviewed.', 'This', 'time', \"you'll\", 'have', 'nowhere', 'to', 'hide.', \"Let's\", 'see', \"who's\", 'a', 'victim', 'and', \"who's\", 'a', 'coward.']\n",
      "[9.8843735e-01 9.7097090e-04 1.7986036e-03 8.1092352e-05 7.3960023e-03\n",
      " 1.4014091e-05]\n",
      "[1, 0, 0, 0, 0, 0]\n",
      "['Do', 'not', 'help', 'the', 'jew', 'Schnider.', 'Final', 'warning.']\n",
      "[9.1487843e-01 4.8893439e-03 6.9165900e-03 5.9551804e-04 4.0614314e-02\n",
      " 4.4613545e-05]\n",
      "[1, 0, 0, 0, 0, 0]\n",
      "[\"Don't\", 'peddle', 'your', 'crap', 'please.', 'Hate', 'to', 'see', 'another', 'article', 'get', 'disputed', 'for', 'neutrality', 'due', 'to', 'you.']\n",
      "[2.2576880e-01 5.1213044e-04 1.1200579e-02 6.4049127e-05 6.7561753e-02\n",
      " 1.7917357e-05]\n",
      "[1, 0, 0, 0, 0, 0]\n",
      "['You', 'really', 'are', 'a', 'rebel', 'guy,', 'rebelguys!', 'Time', 'to', 'get', 'oral', 'from', 'a', \"prostitute'''!\"]\n",
      "[0.9942814  0.00101553 0.16774787 0.04119045 0.9058788  0.00295289]\n",
      "[1, 0, 0, 0, 1, 0]\n",
      "['\"', 'Of', 'course', 'a', 'true', 'Dub', 'will', 'say', \"'depaaarted'\", 'or,', 'more', 'likely', '\"\"f**in\\'', 'gone\"\".', '\"']\n",
      "[3.0576199e-02 1.7050414e-03 5.2000601e-03 4.9742397e-07 3.9842925e-03\n",
      " 5.9553497e-07]\n",
      "[1, 0, 0, 0, 0, 0]\n",
      "['Muslim', 'Men', 'Harassment', 'of', 'MM', 'page', 'It', 'is', 'amazing', 'how', 'three', 'muslim', 'men', 'jumped', 'all', 'over', 'this', 'page,', 'right', 'after', 'I', 'added', 'a', 'number', 'of', 'things', '(30', 'minutes', 'after', '-', 'all', 'three', 'men,', 'all', 'muslims),', 'and', 'cleaned', 'it', 'up.', 'Does', 'a', 'woman', 'working', 'for', 'human', 'rights', 'in', 'Pakistan', 'really', 'get', 'under', 'your', 'skin', 'so', 'badly?', 'Wow.', 'So', 'sweetie,', 'if', 'you', 'are', 'so', 'bloody', 'busy,', 'why', 'not', 'get', 'busy,', 'and', 'stop', 'harassing', 'the', 'women?', 'Are', 'you', '*that*', 'threatened?']\n",
      "[9.9202818e-01 4.8674003e-04 1.0428756e-02 2.2373388e-03 8.7130237e-03\n",
      " 1.2162420e-04]\n",
      "[1, 0, 0, 0, 0, 0]\n",
      "['Tried', 'to', 'be', 'productive', '(look', 'at', 'my', 'contributions)', 'but', 'hit', 'my', 'head', 'against', 'a', 'wall', 'of', 'spoiled', 'greek', 'children', '(or', 'probably', 'under', 'pay', 'from', 'Greek', 'Government)', 'that', 'purposely', 'keep', 'vandalizing', 'the', 'Albania', 'related', 'pages', 'and', 'keep', 'iritating', 'the', 'albanian', 'editors', 'until', 'they', 'explode', 'and', 'get', 'banned.', 'As', 'a', 'historian', 'I', 'blush', 'with', 'what', 'I', 'find', 'quoted', 'as', 'reliable', 'information', 'on', 'the', 'wikipedia', 'pages', 'and', 'the', 'quality', 'of', 'the', 'editors', 'and', 'sources.', 'Time', 'to', 'move', 'to', 'the', 'French', 'pages', '(a', 'lot', 'of', 'readers', 'there),', 'still', '5', 'more', 'languages', 'to', 'go.', 'Till', 'next', 'time.Wikipedia', 'sucks!', '.']\n",
      "[9.8659736e-01 1.0158636e-03 2.4231421e-02 4.5605106e-05 1.9957010e-02\n",
      " 3.7781225e-05]\n",
      "[1, 0, 0, 0, 0, 0]\n",
      "['\"You', 'know,', 'I', 'was', 'thinking...', 'Nobody', 'really', 'attacked', 'me', 'before', 'I', 'revealed', 'my', 'age', 'here.', 'After', 'I', 'announced', 'that', 'I', 'was', '14,', 'I', 'was', 'subject', 'to', 'a', 'constant', 'storm', 'of', 'harassment', 'and', 'abuse.', 'The', 'same', 'thing', 'goes', 'for', 'when', 'I', 'was', 'on', 'The', 'Sandbox', 'when', 'I', 'was', '11.', 'Before', 'people', 'knew', 'my', 'age,', 'they', \"didn't\", 'care.', 'After', 'I', 'told', 'them', 'my', 'age,', 'they', 'hated', 'me.', \"It's\", 'just', 'so', 'amusing', 'how', 'the', 'idiot', 'Soapboxers', 'think', 'of', 'teenagers', 'as', 'being', 'responsible', 'for', 'the', '\"\"decline\"\"', 'of', 'The', 'Soapbox', '(like', 'it', 'was', 'ever', 'any', 'good', 'to', 'begin', 'with).', 'This', 'is', 'funny,', 'because', 'the', 'adults', 'are', 'the', 'dumbest', 'people', 'here.', 'Mauricio,', 'Chuppah,', 'Redneckgirl,', 'Pinky,', 'Scooby,', 'GG,', 'ForeverLostTinkerbell,', 'greenrabbit,', 'StarRocketsInFlight,', 'Bree-Robinson,', 'enigma-72,', 'CocaineNightmares,', 'TokyoDome,', 'Chad_Ocho-Cinco,', 'Steve', 'Lake...', '...all', 'adults.', 'The', 'teenage', 'posters', 'here', 'are', 'typically', 'the', 'smartest', 'ones.', \"Let's\", 'see...', 'G-Dawg,', 'Head_Banging_Brunette,', 'ClassicAge,', 'Metropolis', '(even', 'though', \"he's\", 'a', 'bipolar', 'weirdo),', 'ChrisScript,', 'just', 'to', 'name', 'a', 'few.', 'All', 'I', 'ever', 'see', 'adults', 'posting', 'is', '\"\"rate', 'my', 'poo!!1!\"\",', '\"\"my', 'ballz', 'smell', 'funny\"\",', '\"\"whoz', 'hawter:', 'me', 'or', 'ur', 'mom???//?/?\"\",', '\"\"i', 'like', 'to', 'rape', 'little', 'girls\"\",', 'and', '\"\"HEY', 'GUYZ', 'LOOK', 'AT', 'ME', 'IM', 'AN', 'ATTENTION', 'WHORE!!!!11!!1!\"\"', 'The', 'adult', 'posters', 'here', 'are', 'immature,', 'moronic,', 'savage', 'bullies', 'with', 'the', 'mental', 'capacity', 'of', 'a', 'retarded', '4-year-old.', 'Whereas,', 'most', 'of', 'the', 'teenagers', 'here', 'are', 'thoughtful,', 'intelligent,', 'mature,', 'and', 'often', 'profound.', 'But', \"they're\", 'subject', 'to', 'constant', 'schoolyard', 'bullying', 'by', 'the', 'idiot', 'adult', 'posters', 'who', 'think', \"they're\", 'somehow', 'superior', 'because', 'they', 'were', 'born', '(and', 'dropped', 'on', 'their', 'head)', 'earlier.', 'Soapbox', 'logic', 'never', 'fails', 'to', 'amuse', 'me...', '\"']\n",
      "[3.1158863e-02 1.7580488e-03 5.1033758e-03 4.8718601e-07 3.9533656e-03\n",
      " 5.6254413e-07]\n",
      "[1, 1, 1, 0, 0, 0]\n",
      "[\"Here's\", 'an', 'idea', 'Go', 'fuck', 'yourself,', 'cumshitter.']\n",
      "[0.99995685 0.77869976 0.9975501  0.03394673 0.9994149  0.06488602]\n",
      "[1, 1, 1, 0, 1, 0]\n",
      "['\"', 'WILL', 'MY', 'MOTHERFUCKING', 'SAFETY', 'BE', 'GUARANTEED????', 'I', 'FUCKING', 'HOPE', 'SO!!!', \"I'M\", 'BRINGING', 'MY', 'OWN', \"FUCKIN'\", 'WEAPONS!!', 'PAY', 'ME', 'WHEN', 'I', 'GET', 'BACK', 'MOTHERFUCKERS!!!', 'OH', 'YEAH', \"I'VE\", 'GOT', 'A', 'JOKE...A', 'FAMILY', '(HUSBAND,', 'WIFE,', 'SON,', 'DAUGHTER,', 'DOG)', 'WALKS', 'INTO', 'AN', \"AGENT'S\", 'OFFICE', 'AND', 'TELLS', 'HIM', 'THAT', \"THEY'VE\", 'GOT', 'A', 'GREAT', 'VAUDEVILLE', 'ROUTINE...HE', 'SAYS', '\"\"WE', \"DON'T\", 'HIRE', 'KIDDY', 'ACTS\"\"', 'AND', 'THEY', 'SAY', '\"\"BUT', \"WE'RE\", 'REALLY', 'GOOD!\"\"', 'AND', 'SO', 'THE', 'AGENT', 'SAYS', '\"\"FINE,', 'LET', 'ME', 'SEE', 'WHAT', \"YOU'VE\", 'GOT,', 'BUT', 'IF', 'YOU', 'SUCK', \"I'M\", 'THROWING', 'YOU', 'OUT\"\"...SO', 'THE', 'FAMILY', 'GETS', 'READY...THE', 'DAUGHTER', 'HITS', 'THE', 'CD', 'PLAYER', 'AND', 'CIRCUS', 'MUSIC', 'BEGINS', 'PLAYING,', 'THE', 'FATHER', 'JUMP', 'KICKS', 'THE', 'SON', 'IN', 'THE', 'HEAD', 'AND', 'STOMS', 'HIS', 'FACE', 'IN', 'THE', 'GROUND', 'UNTIL', \"IT'S\", 'A', 'BLOODY', 'PULP,', 'THEN', 'PROCEEDS', 'TO', 'JERK', 'OFF', 'AND', 'CUM', 'ALL', 'OVER', 'HIS', 'SHATTERED', 'SKULL.', 'MEANWHILE', 'THE', 'MOTHER', 'BEGINS', 'VIOLENTLY', 'FINGER', 'FUCKING', 'THE', 'DAUGHTER', 'AS', 'THE', 'DOG', 'FUCKS', 'THE', 'MOTHER', 'IN', 'THE', 'ASS', 'HOLE.', 'THIS', 'IS', 'THE', 'POINT', 'WHEN', 'THE', 'FATHER', 'TAKES', 'THE', 'LEFTOVER', 'BRAIN', 'MATTER', 'FROM', 'THE', \"SON'S\", 'HEAD', 'AND', 'SHOVES', 'IT', 'INTO', 'THE', \"MOTHER'S\", 'PUSSY,', 'THEN', 'BEGINS', 'FUCKING', 'HER', 'PUSSY', 'WHILE', 'SIMULTANEOUSLY', 'STICKING', 'HIS', 'FINGER', 'DOWN', 'THE', \"DAUGHTER'S\", 'THROAT', 'UNTIL', 'SHE', 'VOMITS', 'ALL', 'OVER', 'THEM', 'BOTH.', 'THEN', 'THE', 'DOG', 'BITES', 'THE', \"MOTHER'S\", 'HAND', 'OFF', 'AS', \"SHE'S\", 'FINGER', 'FUCKING', 'THE', 'DAUGHTER,', 'LEAVING', 'HER', 'HAND', 'IN', 'THE', \"DAUGHTER'S\", 'PUSSY', 'AS', 'BLOOD', 'SQUIRTS', 'ALL', 'OVER', 'THE', 'PLACE...THE', 'FATHER', 'TAKES', 'BLOOD', 'FROM', 'THE', 'GROUND,', 'SMEARS', 'IT', 'ALL', 'OVER', 'THE', \"MOTHER'S\", 'CHEST,', 'BENDS', 'OVER,', 'AND', 'BEGINS', 'SHITTING', 'ALL', 'OVER', 'THE', 'OPEN', 'WOUND', 'WHERE', 'HER', 'HAND', 'USED', 'TO', 'BE', 'BEFORE', 'THE', 'DOG', 'BIT', 'IT', 'OFF.', 'THEY', 'TAKE', 'THE', 'DOG', 'AND', 'SHOVE', 'IT', 'IN', 'A', 'MICROWAVE,', 'HEATING', 'IT', 'UP', 'UNTIL', 'IT', 'EXPLODES,', 'THEN', 'TAKE', 'THE', 'DOG', 'REMAINS,', 'MIX', 'IT', 'WITH', 'THE', \"FATHER'S\", 'SHIT,', 'THE', \"SON'S\", 'HEAD', 'WOUND,', 'AND', 'THE', \"FATHER'S\", 'CUM,', 'AND', 'SHOVE', 'IT', 'INTO', 'THE', \"DAUGHTER'S\", 'MOUTH.', 'THEN', 'THE', 'FATHER', 'RIPS', 'THE', \"SON'S\", 'DICK', 'OFF', 'AND', 'FUCKS', 'THE', 'DAUGHTER', 'WITH', 'IT,', 'AS', 'THE', 'MOTHER', \"LOCATE'S\", 'THE', \"SON'S\", 'TESTICLES,', 'BREAKS', 'THEM', 'OPEN,', 'AND', 'DRINKS', 'THE', 'SPERM', 'THAT', 'COMES', 'OUT.', 'THEN', 'THE', 'FAMILY', 'LINES', 'UP', 'AND', 'SAYS', '\"\"TA', 'DA!\"\"...THERE\\'S', 'SILENCE', 'FROM', 'THE', 'AGENT,', 'UNTIL', 'HE', 'FINALLY', 'SAYS', '\"\"I', 'LOVE', 'IT!', 'WHAT', 'DO', 'YOU', 'CALL', 'THAT?\"\"...AND', 'THE', 'FAMILY', 'SAYS', '\"\"WE', 'CALL', 'IT...THE', 'ARISTOCRATS!\"\"\"']\n",
      "[0.9999293  0.8373382  0.9986224  0.04777968 0.99930644 0.07823201]\n",
      "[1, 1, 1, 0, 1, 0]\n",
      "['Fuck', 'you,', 'Smith.', 'Please', 'have', 'me', 'notified', 'when', 'you', 'die.', 'I', 'want', 'to', 'dance', 'on', 'your', 'grave.']\n",
      "[0.9991093  0.158019   0.9644364  0.73503476 0.9821326  0.3773805 ]\n",
      "[1, 0, 1, 1, 1, 0]\n",
      "['I', 'shit', 'on', 'your', 'face', 'fuck', 'you']\n",
      "[0.99961746 0.02031392 0.98962855 0.004648   0.9990958  0.00952553]\n",
      "[1, 0, 1, 0, 1, 0]\n",
      "['You', 'are', 'so', 'retarded.']\n",
      "[9.9476695e-01 9.1168424e-04 2.0312375e-01 8.6631224e-02 9.1260731e-01\n",
      " 4.7139153e-03]\n",
      "[1, 0, 0, 0, 1, 0]\n",
      "['Groin', 'You', 'sad', 'fuck.', \"I'm\", 'going', 'to', 'restore', 'my', 'edit,', 'and', 'you', 'are', 'going', 'to', 'leave', 'it,', 'or', 'else', 'I', 'wil', 'knee', 'you', 'in', 'the', 'groin', 'yourself,', 'prick.', '91.108.208.101']\n",
      "[0.9999385  0.01156815 0.98474175 0.00560862 0.99884135 0.00209754]\n",
      "[1, 0, 1, 0, 1, 0]\n",
      "['Video', 'Game', 'For', 'pete', 'sake', 'if', 'I', 'see', 'that', 'false', 'video', 'game', 'article', 'one', 'more', 'time,', \"I'll\", 'throw', 'a', 'cat', 'out', 'of', 'the', 'window,', 'whoever', 'you', 'are,', 'stop', 'it', 'now,', 'it', \"isn't\", 'funny', 'or', 'clever,', 'you', 'are', 'just', 'making', 'a', 'moron', 'out', 'of', 'yourself', 'and', 'I', 'bet', 'that', 'was', 'the', 'same', 'person', 'who', 'changed', 'the', 'test', 'card', 'date', 'too.']\n",
      "[9.7869474e-01 1.8394251e-03 3.6936407e-03 2.3883090e-03 2.6033340e-02\n",
      " 9.0580746e-05]\n",
      "[1, 0, 0, 0, 0, 0]\n",
      "['HE', 'LIKES', 'ITIN', 'THE', 'ASS', 'BY', 'MUHAMAD', 'ALI', 'AND', 'KELLY', 'HAS', 'A', 'GIANT', 'PENIS', 'AND', 'ALSO', 'FUCKED', 'COLUMBUS']\n",
      "[0.9999447  0.00395942 0.9639884  0.00487461 0.9995722  0.00445017]\n",
      "[1, 0, 1, 0, 1, 0]\n",
      "['Just', 'shut', 'up', 'and', 'stay', 'shut.', \"Don't\", 'edit', 'anymore']\n",
      "[9.8683947e-01 1.0523590e-03 1.0276437e-02 2.8793197e-03 4.7515524e-03\n",
      " 2.0826379e-04]\n",
      "[1, 0, 0, 0, 0, 0]\n",
      "['P.S.', 'Are', 'you', 'a', '/b/tard?']\n",
      "[9.92067575e-01 4.54801251e-04 1.47950305e-02 3.17864539e-03\n",
      " 8.36953893e-03 1.45610626e-04]\n",
      "[1, 0, 0, 0, 0, 0]\n",
      "['Ohhh', \"I'm\", 'sorry', 'did', 'I', 'hurt', 'your', 'little', 'feelings?', \"Let's\", 'all', 'shed', 'a', 'couple', 'tears', 'together.', 'LOL', 'What', 'a', 'joke.', 'I', 'bet', 'you', 'feel', 'pretty', 'important,', 'pathetic', 'little', 'wikipedia', 'volunteer.', 'Have', 'fun', 'living', 'in', 'your', \"mother's\", 'basement', 'drawing', 'comic', 'books,', 'lowlife.']\n",
      "[9.90912676e-01 5.95689169e-04 1.00521790e-02 2.18284107e-03\n",
      " 8.64354428e-03 1.21815836e-04]\n",
      "[1, 0, 0, 0, 0, 0]\n",
      "['Fuck', 'off', 'you', 'murdering', 'scum!!!']\n",
      "[0.9992003  0.01987609 0.9825493  0.00234133 0.99947697 0.01577399]\n",
      "[1, 0, 1, 0, 1, 0]\n",
      "['\"', 'I', 'TAKE', 'OFFENSE!', 'I', 'take', 'great', 'offense', 'that', 'some', 'pompous,', 'sanctimonious', 'twit', 'thinks', 'that', 'no', 'one', 'should', 'be', 'allowed', 'to', 'express', 'appreciation', 'for', 'women', 'like', 'the', 'Gibson', 'Girl', 'as', 'the', '\"\"fine-featured\"\"', 'and', '\"\"achingly', 'beautiful\"\"', 'creatures', 'that', 'they', 'are.', 'I', \"don't\", 'know', 'what', 'kind', 'of', 'totalitarian', 'feminazi', 'dystopian', 'agenda', 'you', 'are', 'trying', 'to', 'foist', 'on', 'people,', 'but', \"don't\", 'do', 'it', 'here!', 'This', 'encyclopedia', 'is', 'based', 'on', 'free', 'speech', 'and', 'a', 'free', 'exchange', 'of', 'information,', 'not', 'bogus', 'political', 'correctness', 'and', 'schoolmarmish', 'thought-policing.', \"I'll\", 'take', 'a', 'Gibson', 'Girl', 'over', 'you', 'anyday!\"']\n",
      "[9.8921096e-01 6.4529828e-04 1.3837526e-02 2.8914679e-03 8.2807876e-03\n",
      " 1.3333811e-04]\n",
      "[1, 0, 0, 0, 0, 0]\n",
      "['you', 'gay', 'motherfucker', 'i', 'know', 'where', 'you', 'live,i', 'am', 'going', 'to', 'sand', 'your', 'face', 'off,then', 'i', 'am', 'to', 'going', 'to', 'beat', 'you', 'to', 'a', 'pulp,you', 'chicken', 'shagger.']\n",
      "[0.99705255 0.88636905 0.9989949  0.08943464 0.9920666  0.93561643]\n",
      "[1, 1, 1, 0, 1, 1]\n",
      "['.', 'Ok', 'Dennis', 'Brown', 'thanks', 'for', 'telling', 'me', 'I', 'was', 'taking', 'this', 'a', 'bit', 'way', 'too', 'serious', 'ill', 'be', 'careful', 'for', 'this', 'time', 'stupid', 'bots.']\n",
      "[9.9753594e-01 3.6469923e-04 3.8487662e-02 1.0621233e-02 8.2336819e-01\n",
      " 7.6821866e-04]\n",
      "[1, 0, 0, 0, 1, 0]\n",
      "['Wikipedia', 'is', 'full', 'of', 'fools.', 'Who', 'takes', 'money', 'and', 'makes', 'people', 'work', 'for', 'free?', 'Wikipedia!!!', 'You', 'might', 'as', 'well', 'ban', 'me,', 'you', 'fool.', \"What's\", 'taking', 'so', 'long?', 'Wiki', 'is', 'a', 'stupid', 'place,', \"it's\", \"Jimbo's\", 'Cult.']\n",
      "[9.9967623e-01 1.4476309e-04 6.1002068e-02 1.6615330e-03 9.5057386e-01\n",
      " 3.2728523e-04]\n",
      "[1, 0, 0, 0, 1, 0]\n",
      "['Why', 'are', 'you', 'changing', 'the', 'SOMALI', 'PEOPLE', 'WIKI????????????????????/', 'SERIOUSLY?????????', 'THAT', 'PAGE', 'IS', 'BIASED', 'TO', 'ONE', 'CLAN,', 'I', 'ADDED', 'A', 'MORE', 'DIVERSE', 'REPRESENTATION', 'OF', 'SOMALI', 'PEOPLE!', 'YOU', 'STUPID', 'CRIMINAL.']\n",
      "[9.9916995e-01 7.5890064e-05 2.8387258e-02 9.0279710e-04 9.4409299e-01\n",
      " 2.1267979e-04]\n",
      "[1, 0, 0, 0, 1, 0]\n",
      "['Transistor', 'The', 'transistor', 'page', 'does', 'not', 'have', 'a', 'Principle', 'of', 'Operation', 'section,', 'because', 'a)the', 'physicists', 'know', 'about', 'it', 'but', \"don't\", 'want', 'to', 'share', 'it', 'b)they', 'just', \"don't\", 'know', 'how', 'it', 'works', 'I', 'was', 'thinking', 'about', 'it', 'and', 'came', 'up', 'with', 'a', 'fairly', 'decent', 'concept', 'of', 'how', 'it', 'works,', 'I', 'put', 'it', 'on', 'WIKI,', 'I', 'think', 'the', 'guys', 'got', 'jealous,', 'and', 'here', 'I', 'am,', 'discussing', 'pretty', 'much', 'nothing.', 'PS:', 'and', 'my', 'language', 'is', 'pathetic,', 'you', 'naughty', 'naughty', \"boy,..I'll\", 'eat', 'you...:)))']\n",
      "[9.9244106e-01 1.3179220e-03 1.3078494e-02 4.8455060e-03 7.9622436e-03\n",
      " 3.5412039e-04]\n",
      "[1, 0, 0, 0, 0, 0]\n",
      "['you', 'studid', 'cock', 'sucker', 'u', 'stop', 'callin', 'me', 'ok', 'its', 'a', 'frank', 'Garrett', 'eatin', 'the', 'worms', 'crawl', 'outa', 'your', 'moms', 'pussy', 'you', 'fucking', 'retardo', 'hit', 'I', 'retardo']\n",
      "[0.9993942  0.00925049 0.98454064 0.05550573 0.99992585 0.98235106]\n",
      "[1, 0, 1, 0, 1, 1]\n",
      "['FisherQueen,', 'would', 'you', 'kindly', 'stop', 'following', 'my', 'every', 'move', 'and', 'deleting', 'things', 'off', 'MY', 'user', 'page.', 'Havent', 'you', 'got', 'anything', 'better', 'to', 'do', 'than', 'piss', 'people', 'off', 'on', 'Wikipedia.']\n",
      "[5.0655442e-01 3.2831484e-03 2.2314494e-03 2.0738109e-05 1.6672314e-03\n",
      " 3.4430670e-06]\n",
      "[1, 0, 0, 0, 0, 0]\n",
      "['\"', 'So', 'Jim', 'Burton,', 'child', 'molesting', 'faggot,', 'I', 'see', 'you', 'are', 'still', 'with', 'us', 'for', 'yet', 'another', 'day,', 'making', 'a', 'total', 'buffoon', 'out', 'of', 'yourself', 'as', 'usual.', 'I', \"don't\", 'know', 'what', 'is', 'sadder', 'here', '-', 'you,', 'or', 'the', 'extreme', 'hypocritical', 'arrogance', 'you', 'show', 'by', 'lecturing', 'the', 'world', 'about', '\"\"ethical', 'principles\"\"', 'for', 'your', 'claimed', '\"\"rights\"\"', 'to', 'abuse', 'our', 'children.', 'You', 'have', 'no', 'ethical', 'principles', 'to', 'save', 'your', 'life,', 'but', \"it's\", 'exactly', 'as', 'the', 'Roman', 'poet', 'said,', \"isn't\", 'it?', '\"\"the', 'harlot', 'doth', 'always', 'rebuke', 'the', 'chaste.\"\"', 'Will', 'you', 'ever', 'drop', 'dead,', 'we', 'might', 'all', 'breathe', 'a', 'little', 'easier', 'for', 'our', 'kids', 'sake.', 'You', 'truly', 'disgust', 'me', 'with', 'every', 'word', 'you', 'write.', '\"']\n",
      "[3.0409247e-02 1.6559574e-03 5.2793580e-03 4.7966859e-07 3.9224639e-03\n",
      " 5.6640386e-07]\n",
      "[1, 0, 0, 0, 0, 0]\n",
      "['MILLINOS', 'OF', 'HUNJAN', 'looking', 'at', 'hunjan', 'template', 'not', 'just', 'me', 'other', 'hunjan', 'will', 'fight', 'back,', 'your', 'concept', 'of', 'art', 'bull', 'of', 'shit!!', '86.166.250.11', 'tharkarn', 'and', 'what', 'waste', 'man!']\n",
      "[9.9222320e-01 6.0175220e-04 1.1513119e-02 2.6907863e-03 8.3016064e-03\n",
      " 1.4316454e-04]\n",
      "[1, 0, 0, 0, 0, 0]\n",
      "['.', 'Fu', 'ck', 'ing', 'trollreasons']\n",
      "[0.9997466  0.00584561 0.9841282  0.00163737 0.9998091  0.00435235]\n",
      "[1, 0, 1, 0, 1, 0]\n",
      "['\"', 'SR/CL:', 'U', 'bud', 'bin', 'A-way.', 'Like', 'long', 'time', 'like', 'time', 'outa', 'mind', 'long.', 'Gooood', 'shit', 'but', \"mo'\", 'latah', 'an', 'dat.', 'Soon', 'az', 'Ah', 'gitz', 'back', 'heah', 'sum', 'a', 'de', 'brotherz', \"'n\", 'sistahs', 'sez', '\"\"Hance', 'dead', 'or', 'alive?', \"We're\", 'about', 'to', 'send', 'a', 'Zion', 'Ranger', 'to', 'check', 'on', 'his', 'condition.\"\"', 'Ah', 'sez', '\"\"Whoa!', 'Led', 'me', 'gib', 'him', 'a', 'holler.\"\"', 'Dis', 'me', 'hollerin', 'Bro.', 'De', 'Zion', 'Rangerz', 'be', 'dem', 'dat', 'do', 'most', \"a'\", 'de', 'walkin', 'tru', 'wallz.', 'Not', 'all', 'but', 'most.', 'De', 'wall', 'walkin', 'dude', 'ain', 'gonna', 'do', 'R', 'Bro', 'no', 'harm,', 'he', 'jes', 'be', 'checkin.', 'EE-ben', 'so', 'a', 'gentle', 'remindah', 'kum', 'fuhst.', 'U', 'be', 'readin', 'id.', 'A', 'leedle', 'postin', 'a', 'dis', \"'n\", 'dat', 'go', 'down', 'GOOD.', 'Doan', 'fohget', 'to', 'cut', 'sum', 'ZZzz', 'aftah', 'a', 'tad', 'a', 'postin.', 'Sleep', 'good', \"'n\", 'doan', 'fergit', 'ta', 'dream.', 'Sumptin', 'might', 'kum', 'jes', 'ta', 'BDH', 'all', 'wrapt', 'roun', 'wid', 'delta', 'wave', \"'n\", 'a', 'kupla', \"otha'\", 'carrierz', 'what', 'we', 'diz-cuss', 'lAtah.', 'Chow,', 'Bro.\"']\n",
      "[9.9238706e-01 5.1024434e-04 8.5593257e-03 2.1447102e-03 5.4334356e-03\n",
      " 1.4880087e-04]\n",
      "[1, 0, 0, 0, 0, 0]\n",
      "['Leave', 'me', 'alone!', 'I', 'told', 'you', 'already', 'to', 'leave', 'me', 'alone.why', \"can't\", 'you', 'fuck', 'off', 'and', 'do', 'your', 'own', 'fucking', 'thing.', 'Or', 'do', 'you', 'find', 'that', 'hounding', 'me', 'is', 'amusing.', 'Id', 'u', 'do', 'then', 'you', 'are', 'a', 'mothafuckin', 'asshole', 'and', 'I', 'will', 'ban', 'you.']\n",
      "[0.9998661  0.01433409 0.9583096  0.0811625  0.998417   0.06144527]\n",
      "[1, 0, 1, 0, 1, 0]\n"
     ]
    }
   ],
   "source": [
    "for i in range(tf_rnn_predictions.shape[0]):\n",
    "    if max(Y_rnn_train[i]) > 0:\n",
    "        print(X_rnn_train[i])\n",
    "        print(tf_rnn_predictions[i])\n",
    "        print(Y_rnn_train[i])"
   ]
  },
  {
   "cell_type": "code",
   "execution_count": null,
   "metadata": {
    "collapsed": true
   },
   "outputs": [],
   "source": []
  }
 ],
 "metadata": {
  "kernelspec": {
   "display_name": "nlu",
   "language": "python",
   "name": "nlu"
  },
  "language_info": {
   "codemirror_mode": {
    "name": "ipython",
    "version": 3
   },
   "file_extension": ".py",
   "mimetype": "text/x-python",
   "name": "python",
   "nbconvert_exporter": "python",
   "pygments_lexer": "ipython3",
   "version": "3.6.4"
  }
 },
 "nbformat": 4,
 "nbformat_minor": 2
}
