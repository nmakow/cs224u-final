{
 "cells": [
  {
   "cell_type": "markdown",
   "metadata": {},
   "source": [
    "# TensorFlow Deep Model\n",
    "\n",
    "Ultimately we want to work in tf to build a model, as it will give the most flexibility and we can build off of some modules we built for SQuAD. \n",
    "\n",
    "We'll go through as follows:\n",
    "0. Set-up.\n",
    "1. Read in dataset.\n",
    "2. Convert dataset into format for RNN.\n",
    "3. Construct vocabulary for RNN.\n",
    "4. Fit TF-RNN classifier."
   ]
  },
  {
   "cell_type": "code",
   "execution_count": 67,
   "metadata": {},
   "outputs": [],
   "source": [
    "# 0. Some initial set-up.\n",
    "from collections import Counter\n",
    "import numpy as np\n",
    "import os\n",
    "import pandas as pd\n",
    "import random\n",
    "from tf_rnn_classifier import TfRNNClassifier\n",
    "from sklearn.linear_model import LogisticRegression\n",
    "from sklearn.metrics import classification_report, roc_auc_score\n",
    "import tensorflow as tf\n",
    "import sst\n",
    "import utils"
   ]
  },
  {
   "cell_type": "code",
   "execution_count": 68,
   "metadata": {
    "collapsed": true
   },
   "outputs": [],
   "source": [
    "data_dir = \"./data/\""
   ]
  },
  {
   "cell_type": "markdown",
   "metadata": {},
   "source": [
    "## Read in data"
   ]
  },
  {
   "cell_type": "code",
   "execution_count": 69,
   "metadata": {},
   "outputs": [],
   "source": [
    "train = pd.read_csv(data_dir + \"train.csv\").fillna(' ')\n",
    "test = pd.read_csv(data_dir + \"test.csv\").fillna(' ')\n",
    "test_labels = pd.read_csv(data_dir + \"test_labels.csv\")"
   ]
  },
  {
   "cell_type": "code",
   "execution_count": 70,
   "metadata": {
    "collapsed": true
   },
   "outputs": [],
   "source": [
    "label_cols = ['toxic', 'severe_toxic', 'obscene', 'threat', 'insult', 'identity_hate']\n",
    "train_text = train['comment_text']\n",
    "train_labels = train[label_cols]"
   ]
  },
  {
   "cell_type": "markdown",
   "metadata": {},
   "source": [
    "## Formatting dataset for RNN\n",
    "\n",
    "In order to format the dataset for the RNN, we want to format it so that we have a list of lists. Outer list corresponds to training examples, inner list corresponds to token within each example."
   ]
  },
  {
   "cell_type": "code",
   "execution_count": 71,
   "metadata": {
    "collapsed": true
   },
   "outputs": [],
   "source": [
    "def build_rnn_dataset(dataset):\n",
    "    label_cols = ['toxic', 'severe_toxic', 'obscene', 'threat', 'insult', 'identity_hate']\n",
    "    text = dataset['comment_text']\n",
    "    labels = dataset[label_cols]\n",
    "    \n",
    "    X_rnn = []\n",
    "    for comment in text:\n",
    "        # Train example is list of tokens\n",
    "        X_rnn.append(comment.split())\n",
    "        \n",
    "    Y_rnn = []\n",
    "    for _, labels in labels.iterrows():\n",
    "        # Since this is multilabel problem, each y is a list of 0/1 for each of the\n",
    "        # six classes.\n",
    "        Y_rnn.append(list(labels))\n",
    "        \n",
    "    return X_rnn, Y_rnn"
   ]
  },
  {
   "cell_type": "code",
   "execution_count": 72,
   "metadata": {},
   "outputs": [],
   "source": [
    "X_rnn_train, Y_rnn_train = build_rnn_dataset(train)"
   ]
  },
  {
   "cell_type": "code",
   "execution_count": 73,
   "metadata": {},
   "outputs": [
    {
     "data": {
      "text/plain": [
       "['GET',\n",
       " 'FUCKED',\n",
       " 'UP.',\n",
       " 'GET',\n",
       " 'FUCKEEED',\n",
       " 'UP.',\n",
       " 'GOT',\n",
       " 'A',\n",
       " 'DRINK',\n",
       " 'THAT',\n",
       " 'YOU',\n",
       " 'CANT',\n",
       " 'PUT',\n",
       " 'DOWN???/',\n",
       " 'GET',\n",
       " 'FUCK',\n",
       " 'UP',\n",
       " 'GET',\n",
       " 'FUCKED',\n",
       " 'UP.']"
      ]
     },
     "execution_count": 73,
     "metadata": {},
     "output_type": "execute_result"
    }
   ],
   "source": [
    "X_rnn_train[51][:20]"
   ]
  },
  {
   "cell_type": "code",
   "execution_count": 74,
   "metadata": {},
   "outputs": [
    {
     "data": {
      "text/plain": [
       "[1, 0, 1, 0, 0, 0]"
      ]
     },
     "execution_count": 74,
     "metadata": {},
     "output_type": "execute_result"
    }
   ],
   "source": [
    "Y_rnn_train[51]"
   ]
  },
  {
   "cell_type": "markdown",
   "metadata": {},
   "source": [
    "## Get vocab for RNN"
   ]
  },
  {
   "cell_type": "code",
   "execution_count": 75,
   "metadata": {
    "collapsed": true
   },
   "outputs": [],
   "source": [
    "full_train_vocab = sst.get_vocab(X_rnn_train)"
   ]
  },
  {
   "cell_type": "code",
   "execution_count": 76,
   "metadata": {},
   "outputs": [
    {
     "name": "stdout",
     "output_type": "stream",
     "text": [
      "sst_full_train_vocab has 532,300 items\n"
     ]
    }
   ],
   "source": [
    "print(\"sst_full_train_vocab has {:,} items\".format(len(full_train_vocab)))"
   ]
  },
  {
   "cell_type": "code",
   "execution_count": 11,
   "metadata": {
    "collapsed": true
   },
   "outputs": [],
   "source": [
    "train_vocab = sst.get_vocab(X_rnn_train,)"
   ]
  },
  {
   "cell_type": "code",
   "execution_count": 12,
   "metadata": {},
   "outputs": [
    {
     "name": "stdout",
     "output_type": "stream",
     "text": [
      "sst_full_train_vocab has 532,300 items\n"
     ]
    }
   ],
   "source": [
    "print(\"sst_full_train_vocab has {:,} items\".format(len(train_vocab)))"
   ]
  },
  {
   "cell_type": "markdown",
   "metadata": {},
   "source": [
    "## Train RNN "
   ]
  },
  {
   "cell_type": "code",
   "execution_count": 100,
   "metadata": {
    "collapsed": true
   },
   "outputs": [],
   "source": [
    "num_train = 3000"
   ]
  },
  {
   "cell_type": "code",
   "execution_count": 101,
   "metadata": {
    "collapsed": true
   },
   "outputs": [],
   "source": [
    "tf_rnn = TfRNNClassifier(\n",
    "    train_vocab,\n",
    "    embed_dim=50,\n",
    "    hidden_dim=50,\n",
    "    max_length=50,\n",
    "    hidden_activation=tf.nn.tanh,\n",
    "    cell_class=tf.nn.rnn_cell.LSTMCell,\n",
    "    train_embedding=True,\n",
    "    max_iter=50,\n",
    "    eta=0.1)"
   ]
  },
  {
   "cell_type": "code",
   "execution_count": 102,
   "metadata": {},
   "outputs": [
    {
     "name": "stderr",
     "output_type": "stream",
     "text": [
      "Iteration 50: loss: 0.0047960305819287945"
     ]
    }
   ],
   "source": [
    "_ = tf_rnn.fit(X_rnn_train[:num_train], Y_rnn_train[:num_train])"
   ]
  },
  {
   "cell_type": "code",
   "execution_count": 103,
   "metadata": {
    "collapsed": true
   },
   "outputs": [],
   "source": [
    "tf_rnn_predictions = tf_rnn.predict(X_rnn_train[:num_train])"
   ]
  },
  {
   "cell_type": "code",
   "execution_count": 108,
   "metadata": {
    "collapsed": true
   },
   "outputs": [],
   "source": [
    "def evaluate(labels, preds):\n",
    "    \"\"\"\n",
    "    labels: list (of shape (num_ex, num_class))\n",
    "    preds: np.array shape (num_ex, num_class) (can be probabilistic)\n",
    "    \"\"\"\n",
    "    labels = np.array(labels)\n",
    "\n",
    "    # Class-wise Precision/Recall/F1\n",
    "    label_cols = ['toxic', 'severe_toxic', 'obscene', 'threat', 'insult', 'identity_hate']\n",
    "    for i in range(len(label_cols)):\n",
    "        print(\"CLASS: %s\" % label_cols[i])\n",
    "        print(classification_report(labels[:, i], np.round(tf_rnn_predictions[:,i])))\n",
    "        print()\n",
    "        \n",
    "    # ROC-AUC\n",
    "    roc_auc = roc_auc_score(labels, preds)\n",
    "    print(\"macro-averaged ROC-AUC score: %f\" % roc_auc)\n",
    "    "
   ]
  },
  {
   "cell_type": "code",
   "execution_count": 109,
   "metadata": {},
   "outputs": [
    {
     "name": "stdout",
     "output_type": "stream",
     "text": [
      "CLASS: toxic\n",
      "             precision    recall  f1-score   support\n",
      "\n",
      "          0       1.00      1.00      1.00      2693\n",
      "          1       1.00      1.00      1.00       307\n",
      "\n",
      "avg / total       1.00      1.00      1.00      3000\n",
      "\n",
      "\n",
      "CLASS: severe_toxic\n",
      "             precision    recall  f1-score   support\n",
      "\n",
      "          0       1.00      1.00      1.00      2962\n",
      "          1       1.00      1.00      1.00        38\n",
      "\n",
      "avg / total       1.00      1.00      1.00      3000\n",
      "\n",
      "\n",
      "CLASS: obscene\n",
      "             precision    recall  f1-score   support\n",
      "\n",
      "          0       1.00      1.00      1.00      2833\n",
      "          1       1.00      0.99      1.00       167\n",
      "\n",
      "avg / total       1.00      1.00      1.00      3000\n",
      "\n",
      "\n",
      "CLASS: threat\n",
      "             precision    recall  f1-score   support\n",
      "\n",
      "          0       1.00      1.00      1.00      2986\n",
      "          1       1.00      1.00      1.00        14\n",
      "\n",
      "avg / total       1.00      1.00      1.00      3000\n",
      "\n",
      "\n",
      "CLASS: insult\n",
      "             precision    recall  f1-score   support\n",
      "\n",
      "          0       1.00      1.00      1.00      2836\n",
      "          1       1.00      0.99      0.99       164\n",
      "\n",
      "avg / total       1.00      1.00      1.00      3000\n",
      "\n",
      "\n",
      "CLASS: identity_hate\n",
      "             precision    recall  f1-score   support\n",
      "\n",
      "          0       1.00      1.00      1.00      2968\n",
      "          1       1.00      1.00      1.00        32\n",
      "\n",
      "avg / total       1.00      1.00      1.00      3000\n",
      "\n",
      "\n",
      "macro-averaged ROC-AUC score: 0.999990\n"
     ]
    }
   ],
   "source": [
    "evaluate(Y_rnn_train[:num_train], tf_rnn_predictions)"
   ]
  },
  {
   "cell_type": "code",
   "execution_count": 105,
   "metadata": {},
   "outputs": [
    {
     "name": "stdout",
     "output_type": "stream",
     "text": [
      "CLASS: toxic\n",
      "             precision    recall  f1-score   support\n",
      "\n",
      "          0       1.00      1.00      1.00      2693\n",
      "          1       1.00      1.00      1.00       307\n",
      "\n",
      "avg / total       1.00      1.00      1.00      3000\n",
      "\n",
      "\n",
      "CLASS: severe_toxic\n",
      "             precision    recall  f1-score   support\n",
      "\n",
      "          0       1.00      1.00      1.00      2962\n",
      "          1       1.00      1.00      1.00        38\n",
      "\n",
      "avg / total       1.00      1.00      1.00      3000\n",
      "\n",
      "\n",
      "CLASS: obscene\n",
      "             precision    recall  f1-score   support\n",
      "\n",
      "          0       1.00      1.00      1.00      2833\n",
      "          1       1.00      0.99      1.00       167\n",
      "\n",
      "avg / total       1.00      1.00      1.00      3000\n",
      "\n",
      "\n",
      "CLASS: threat\n",
      "             precision    recall  f1-score   support\n",
      "\n",
      "          0       1.00      1.00      1.00      2986\n",
      "          1       1.00      1.00      1.00        14\n",
      "\n",
      "avg / total       1.00      1.00      1.00      3000\n",
      "\n",
      "\n",
      "CLASS: insult\n",
      "             precision    recall  f1-score   support\n",
      "\n",
      "          0       1.00      1.00      1.00      2836\n",
      "          1       1.00      0.99      0.99       164\n",
      "\n",
      "avg / total       1.00      1.00      1.00      3000\n",
      "\n",
      "\n",
      "CLASS: identity_hate\n",
      "             precision    recall  f1-score   support\n",
      "\n",
      "          0       1.00      1.00      1.00      2968\n",
      "          1       1.00      1.00      1.00        32\n",
      "\n",
      "avg / total       1.00      1.00      1.00      3000\n",
      "\n",
      "\n"
     ]
    }
   ],
   "source": [
    "label_cols = ['toxic', 'severe_toxic', 'obscene', 'threat', 'insult', 'identity_hate']\n",
    "for i in range(len(label_cols)):\n",
    "    print(\"CLASS: %s\" % label_cols[i])\n",
    "    print(classification_report(np.array(Y_rnn_train[:num_train])[:, i], np.round(tf_rnn_predictions[:,i])))\n",
    "    print()"
   ]
  },
  {
   "cell_type": "code",
   "execution_count": null,
   "metadata": {
    "collapsed": true
   },
   "outputs": [],
   "source": []
  }
 ],
 "metadata": {
  "kernelspec": {
   "display_name": "nlu",
   "language": "python",
   "name": "nlu"
  },
  "language_info": {
   "codemirror_mode": {
    "name": "ipython",
    "version": 3
   },
   "file_extension": ".py",
   "mimetype": "text/x-python",
   "name": "python",
   "nbconvert_exporter": "python",
   "pygments_lexer": "ipython3",
   "version": "3.6.4"
  }
 },
 "nbformat": 4,
 "nbformat_minor": 2
}
